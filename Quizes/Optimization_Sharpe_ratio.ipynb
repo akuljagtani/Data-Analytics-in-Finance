{
 "cells": [
  {
   "cell_type": "code",
   "execution_count": 1,
   "id": "613ef729",
   "metadata": {
    "deletable": false,
    "editable": false
   },
   "outputs": [],
   "source": [
    "# Initialize Otter\n",
    "import otter\n",
    "grader = otter.Notebook(\"quiz_07.ipynb\")"
   ]
  },
  {
   "cell_type": "markdown",
   "id": "7861eb9c",
   "metadata": {},
   "source": [
    "# Quiz 7"
   ]
  },
  {
   "cell_type": "markdown",
   "id": "3153306f",
   "metadata": {
    "tags": []
   },
   "source": [
    "## Instructions"
   ]
  },
  {
   "cell_type": "markdown",
   "id": "8cb4125e",
   "metadata": {},
   "source": [
    "1. ***Do not change any file names or relative locations***\n",
    "1. After you answer a question, you should run its public tests.\n",
    "1. After you answer every question, you should:\n",
    "    1. Restart your kernel and clear all output\n",
    "    1. Run up to the last cell\n",
    "    1. Save your notebook\n",
    "    1. Run the last cell to create a .zip file for Gradescope\n",
    "    1. Upload this .zip file to Gradescope\n",
    "    1. ***Make sure your Gradescope autograder results match your local autograder results***\n",
    "1. This quiz has public and hidden tests:\n",
    "    1. Public tests check your answers for correct types and shapes but may not completely check your answers\n",
    "    1. Hidden tests completely check your answers but will not be available until after the due date\n",
    "    1. *If all tests were public, you could quickly reverse-engineer incorrect answers that trick the autograder*\n",
    "1. You may ask technical questions on Canvas Discussions, but this quiz is an individual effort."
   ]
  },
  {
   "cell_type": "markdown",
   "id": "b0c04fad",
   "metadata": {
    "tags": []
   },
   "source": [
    "## Packages and Settings"
   ]
  },
  {
   "cell_type": "markdown",
   "id": "6a6b00c9",
   "metadata": {},
   "source": [
    "***The following code cell imports all the packages you need for this quiz.***\n",
    "***Do not import any other packages.***"
   ]
  },
  {
   "cell_type": "code",
   "execution_count": 2,
   "id": "71912de5",
   "metadata": {},
   "outputs": [],
   "source": [
    "import matplotlib.pyplot as plt\n",
    "import numpy as np\n",
    "import pandas as pd\n",
    "import scipy.optimize as sco"
   ]
  },
  {
   "cell_type": "markdown",
   "id": "4a500777",
   "metadata": {
    "tags": []
   },
   "source": [
    "## Data"
   ]
  },
  {
   "cell_type": "markdown",
   "id": "77ce5dbb",
   "metadata": {},
   "source": [
    "I used the following code to download and save the data you need for this quiz.\n",
    "***You should review the following code but not run it.***"
   ]
  },
  {
   "cell_type": "code",
   "execution_count": 3,
   "id": "1ea833f0",
   "metadata": {},
   "outputs": [],
   "source": [
    "# import yfinance as yf\n",
    "\n",
    "# (\n",
    "#     yf.download(tickers=['MSFT', 'AAPL', 'TSLA', 'AMZN', 'NVDA', 'GOOG'])\n",
    "#     .assign(Date = lambda x: x.index.tz_localize(None))\n",
    "#     .set_index('Date')\n",
    "#     .rename_axis(columns=['Variable', 'Ticker'])\n",
    "#     .to_csv('yahoo.csv')\n",
    "# )"
   ]
  },
  {
   "cell_type": "markdown",
   "id": "7942aaaa",
   "metadata": {
    "tags": []
   },
   "source": [
    "## Questions"
   ]
  },
  {
   "cell_type": "markdown",
   "id": "82d9b84c",
   "metadata": {
    "tags": []
   },
   "source": [
    "### Question 1"
   ]
  },
  {
   "cell_type": "markdown",
   "id": "2539ca3b",
   "metadata": {},
   "source": [
    "Complete the following calculations:\n",
    "\n",
    "1. Read the daily price data for the MATANA stocks saved in file `yahoo.csv` and assign them to data frame `yahoo`\n",
    "1. Calculate the maximum Sharpe Ratio portfolio weights assign them to array `weights` \n",
    "    1. Use the daily returns on the MATANA stocks from 2011 through 2022 (inclusive)\n",
    "    1. Use a target or benchmark return of 0 (instead of the risk-free rate)\n",
    "    1. Calculate long-only portfolio weights, but do not allow any portfolio weight to exceed 0.3\n",
    "1. Calculate rolling Sharpe Ratios for the maximum Sharpe Ratio portfolio and assign them to series `sr_rolling`\n",
    "    1. Use 252-trading day windows\n",
    "    1. Require at least 200 trading days to calculate each Sharpe Ratio\n",
    "    \n",
    "This question has 6 hidden tests worth 5 points each.\n",
    "\n",
    "_Points:_ 100"
   ]
  },
  {
   "cell_type": "code",
   "execution_count": 4,
   "id": "b9545429",
   "metadata": {
    "tags": []
   },
   "outputs": [
    {
     "data": {
      "text/html": [
       "<div>\n",
       "<style scoped>\n",
       "    .dataframe tbody tr th:only-of-type {\n",
       "        vertical-align: middle;\n",
       "    }\n",
       "\n",
       "    .dataframe tbody tr th {\n",
       "        vertical-align: top;\n",
       "    }\n",
       "\n",
       "    .dataframe thead tr th {\n",
       "        text-align: left;\n",
       "    }\n",
       "\n",
       "    .dataframe thead tr:last-of-type th {\n",
       "        text-align: right;\n",
       "    }\n",
       "</style>\n",
       "<table border=\"1\" class=\"dataframe\">\n",
       "  <thead>\n",
       "    <tr>\n",
       "      <th>Variable</th>\n",
       "      <th colspan=\"6\" halign=\"left\">Adj Close</th>\n",
       "      <th colspan=\"4\" halign=\"left\">Close</th>\n",
       "      <th>...</th>\n",
       "      <th colspan=\"4\" halign=\"left\">Open</th>\n",
       "      <th colspan=\"6\" halign=\"left\">Volume</th>\n",
       "    </tr>\n",
       "    <tr>\n",
       "      <th>Ticker</th>\n",
       "      <th>AAPL</th>\n",
       "      <th>AMZN</th>\n",
       "      <th>GOOG</th>\n",
       "      <th>MSFT</th>\n",
       "      <th>NVDA</th>\n",
       "      <th>TSLA</th>\n",
       "      <th>AAPL</th>\n",
       "      <th>AMZN</th>\n",
       "      <th>GOOG</th>\n",
       "      <th>MSFT</th>\n",
       "      <th>...</th>\n",
       "      <th>GOOG</th>\n",
       "      <th>MSFT</th>\n",
       "      <th>NVDA</th>\n",
       "      <th>TSLA</th>\n",
       "      <th>AAPL</th>\n",
       "      <th>AMZN</th>\n",
       "      <th>GOOG</th>\n",
       "      <th>MSFT</th>\n",
       "      <th>NVDA</th>\n",
       "      <th>TSLA</th>\n",
       "    </tr>\n",
       "    <tr>\n",
       "      <th>Date</th>\n",
       "      <th></th>\n",
       "      <th></th>\n",
       "      <th></th>\n",
       "      <th></th>\n",
       "      <th></th>\n",
       "      <th></th>\n",
       "      <th></th>\n",
       "      <th></th>\n",
       "      <th></th>\n",
       "      <th></th>\n",
       "      <th></th>\n",
       "      <th></th>\n",
       "      <th></th>\n",
       "      <th></th>\n",
       "      <th></th>\n",
       "      <th></th>\n",
       "      <th></th>\n",
       "      <th></th>\n",
       "      <th></th>\n",
       "      <th></th>\n",
       "      <th></th>\n",
       "    </tr>\n",
       "  </thead>\n",
       "  <tbody>\n",
       "    <tr>\n",
       "      <th>2023-04-04</th>\n",
       "      <td>165.630005</td>\n",
       "      <td>103.949997</td>\n",
       "      <td>105.120003</td>\n",
       "      <td>287.179993</td>\n",
       "      <td>274.529999</td>\n",
       "      <td>192.580002</td>\n",
       "      <td>165.630005</td>\n",
       "      <td>103.949997</td>\n",
       "      <td>105.120003</td>\n",
       "      <td>287.179993</td>\n",
       "      <td>...</td>\n",
       "      <td>104.839996</td>\n",
       "      <td>287.230011</td>\n",
       "      <td>279.660004</td>\n",
       "      <td>197.320007</td>\n",
       "      <td>46278300</td>\n",
       "      <td>48662500.0</td>\n",
       "      <td>20377200.0</td>\n",
       "      <td>25824300.0</td>\n",
       "      <td>36859200.0</td>\n",
       "      <td>126463800.0</td>\n",
       "    </tr>\n",
       "    <tr>\n",
       "      <th>2023-04-05</th>\n",
       "      <td>163.759995</td>\n",
       "      <td>101.099998</td>\n",
       "      <td>104.949997</td>\n",
       "      <td>284.339996</td>\n",
       "      <td>268.809998</td>\n",
       "      <td>185.520004</td>\n",
       "      <td>163.759995</td>\n",
       "      <td>101.099998</td>\n",
       "      <td>104.949997</td>\n",
       "      <td>284.339996</td>\n",
       "      <td>...</td>\n",
       "      <td>106.120003</td>\n",
       "      <td>285.850006</td>\n",
       "      <td>268.290009</td>\n",
       "      <td>190.520004</td>\n",
       "      <td>51511700</td>\n",
       "      <td>45175400.0</td>\n",
       "      <td>21864200.0</td>\n",
       "      <td>22064800.0</td>\n",
       "      <td>51501500.0</td>\n",
       "      <td>133882500.0</td>\n",
       "    </tr>\n",
       "    <tr>\n",
       "      <th>2023-04-06</th>\n",
       "      <td>164.660004</td>\n",
       "      <td>102.059998</td>\n",
       "      <td>108.900002</td>\n",
       "      <td>291.600006</td>\n",
       "      <td>270.369995</td>\n",
       "      <td>185.059998</td>\n",
       "      <td>164.660004</td>\n",
       "      <td>102.059998</td>\n",
       "      <td>108.900002</td>\n",
       "      <td>291.600006</td>\n",
       "      <td>...</td>\n",
       "      <td>105.769997</td>\n",
       "      <td>283.209991</td>\n",
       "      <td>265.839996</td>\n",
       "      <td>183.080002</td>\n",
       "      <td>45390100</td>\n",
       "      <td>43808000.0</td>\n",
       "      <td>34684200.0</td>\n",
       "      <td>29770300.0</td>\n",
       "      <td>39765400.0</td>\n",
       "      <td>123857900.0</td>\n",
       "    </tr>\n",
       "    <tr>\n",
       "      <th>2023-04-10</th>\n",
       "      <td>162.029999</td>\n",
       "      <td>102.169998</td>\n",
       "      <td>106.949997</td>\n",
       "      <td>289.390015</td>\n",
       "      <td>275.790009</td>\n",
       "      <td>184.509995</td>\n",
       "      <td>162.029999</td>\n",
       "      <td>102.169998</td>\n",
       "      <td>106.949997</td>\n",
       "      <td>289.390015</td>\n",
       "      <td>...</td>\n",
       "      <td>107.389999</td>\n",
       "      <td>289.209991</td>\n",
       "      <td>268.230011</td>\n",
       "      <td>179.940002</td>\n",
       "      <td>47672100</td>\n",
       "      <td>37221500.0</td>\n",
       "      <td>19723200.0</td>\n",
       "      <td>23079400.0</td>\n",
       "      <td>39438000.0</td>\n",
       "      <td>141873200.0</td>\n",
       "    </tr>\n",
       "    <tr>\n",
       "      <th>2023-04-11</th>\n",
       "      <td>161.509995</td>\n",
       "      <td>100.480698</td>\n",
       "      <td>106.794998</td>\n",
       "      <td>283.815002</td>\n",
       "      <td>273.739990</td>\n",
       "      <td>NaN</td>\n",
       "      <td>161.509995</td>\n",
       "      <td>100.480698</td>\n",
       "      <td>106.794998</td>\n",
       "      <td>283.815002</td>\n",
       "      <td>...</td>\n",
       "      <td>106.919998</td>\n",
       "      <td>285.750000</td>\n",
       "      <td>277.234985</td>\n",
       "      <td>NaN</td>\n",
       "      <td>33158525</td>\n",
       "      <td>47340602.0</td>\n",
       "      <td>13859076.0</td>\n",
       "      <td>20946649.0</td>\n",
       "      <td>24902157.0</td>\n",
       "      <td>NaN</td>\n",
       "    </tr>\n",
       "  </tbody>\n",
       "</table>\n",
       "<p>5 rows × 36 columns</p>\n",
       "</div>"
      ],
      "text/plain": [
       "Variable     Adj Close                                                  \\\n",
       "Ticker            AAPL        AMZN        GOOG        MSFT        NVDA   \n",
       "Date                                                                     \n",
       "2023-04-04  165.630005  103.949997  105.120003  287.179993  274.529999   \n",
       "2023-04-05  163.759995  101.099998  104.949997  284.339996  268.809998   \n",
       "2023-04-06  164.660004  102.059998  108.900002  291.600006  270.369995   \n",
       "2023-04-10  162.029999  102.169998  106.949997  289.390015  275.790009   \n",
       "2023-04-11  161.509995  100.480698  106.794998  283.815002  273.739990   \n",
       "\n",
       "Variable                     Close                                      ...  \\\n",
       "Ticker            TSLA        AAPL        AMZN        GOOG        MSFT  ...   \n",
       "Date                                                                    ...   \n",
       "2023-04-04  192.580002  165.630005  103.949997  105.120003  287.179993  ...   \n",
       "2023-04-05  185.520004  163.759995  101.099998  104.949997  284.339996  ...   \n",
       "2023-04-06  185.059998  164.660004  102.059998  108.900002  291.600006  ...   \n",
       "2023-04-10  184.509995  162.029999  102.169998  106.949997  289.390015  ...   \n",
       "2023-04-11         NaN  161.509995  100.480698  106.794998  283.815002  ...   \n",
       "\n",
       "Variable          Open                                        Volume  \\\n",
       "Ticker            GOOG        MSFT        NVDA        TSLA      AAPL   \n",
       "Date                                                                   \n",
       "2023-04-04  104.839996  287.230011  279.660004  197.320007  46278300   \n",
       "2023-04-05  106.120003  285.850006  268.290009  190.520004  51511700   \n",
       "2023-04-06  105.769997  283.209991  265.839996  183.080002  45390100   \n",
       "2023-04-10  107.389999  289.209991  268.230011  179.940002  47672100   \n",
       "2023-04-11  106.919998  285.750000  277.234985         NaN  33158525   \n",
       "\n",
       "Variable                                                                 \n",
       "Ticker            AMZN        GOOG        MSFT        NVDA         TSLA  \n",
       "Date                                                                     \n",
       "2023-04-04  48662500.0  20377200.0  25824300.0  36859200.0  126463800.0  \n",
       "2023-04-05  45175400.0  21864200.0  22064800.0  51501500.0  133882500.0  \n",
       "2023-04-06  43808000.0  34684200.0  29770300.0  39765400.0  123857900.0  \n",
       "2023-04-10  37221500.0  19723200.0  23079400.0  39438000.0  141873200.0  \n",
       "2023-04-11  47340602.0  13859076.0  20946649.0  24902157.0          NaN  \n",
       "\n",
       "[5 rows x 36 columns]"
      ]
     },
     "execution_count": 4,
     "metadata": {},
     "output_type": "execute_result"
    }
   ],
   "source": [
    "yahoo = pd.read_csv(\"yahoo.csv\", header= [0,1], index_col=[0])\n",
    "yahoo.tail()"
   ]
  },
  {
   "cell_type": "code",
   "execution_count": 5,
   "id": "7c418db2",
   "metadata": {},
   "outputs": [
    {
     "data": {
      "text/html": [
       "<div>\n",
       "<style scoped>\n",
       "    .dataframe tbody tr th:only-of-type {\n",
       "        vertical-align: middle;\n",
       "    }\n",
       "\n",
       "    .dataframe tbody tr th {\n",
       "        vertical-align: top;\n",
       "    }\n",
       "\n",
       "    .dataframe thead th {\n",
       "        text-align: right;\n",
       "    }\n",
       "</style>\n",
       "<table border=\"1\" class=\"dataframe\">\n",
       "  <thead>\n",
       "    <tr style=\"text-align: right;\">\n",
       "      <th>Ticker</th>\n",
       "      <th>AAPL</th>\n",
       "      <th>AMZN</th>\n",
       "      <th>GOOG</th>\n",
       "      <th>MSFT</th>\n",
       "      <th>NVDA</th>\n",
       "      <th>TSLA</th>\n",
       "    </tr>\n",
       "    <tr>\n",
       "      <th>Date</th>\n",
       "      <th></th>\n",
       "      <th></th>\n",
       "      <th></th>\n",
       "      <th></th>\n",
       "      <th></th>\n",
       "      <th></th>\n",
       "    </tr>\n",
       "  </thead>\n",
       "  <tbody>\n",
       "    <tr>\n",
       "      <th>2022-12-23</th>\n",
       "      <td>-0.002798</td>\n",
       "      <td>0.017425</td>\n",
       "      <td>0.017562</td>\n",
       "      <td>0.002267</td>\n",
       "      <td>-0.008671</td>\n",
       "      <td>-0.017551</td>\n",
       "    </tr>\n",
       "    <tr>\n",
       "      <th>2022-12-27</th>\n",
       "      <td>-0.013878</td>\n",
       "      <td>-0.025924</td>\n",
       "      <td>-0.020933</td>\n",
       "      <td>-0.007414</td>\n",
       "      <td>-0.071353</td>\n",
       "      <td>-0.114089</td>\n",
       "    </tr>\n",
       "    <tr>\n",
       "      <th>2022-12-28</th>\n",
       "      <td>-0.030685</td>\n",
       "      <td>-0.014692</td>\n",
       "      <td>-0.016718</td>\n",
       "      <td>-0.010255</td>\n",
       "      <td>-0.006019</td>\n",
       "      <td>0.033089</td>\n",
       "    </tr>\n",
       "    <tr>\n",
       "      <th>2022-12-29</th>\n",
       "      <td>0.028324</td>\n",
       "      <td>0.028844</td>\n",
       "      <td>0.028799</td>\n",
       "      <td>0.027630</td>\n",
       "      <td>0.040396</td>\n",
       "      <td>0.080827</td>\n",
       "    </tr>\n",
       "    <tr>\n",
       "      <th>2022-12-30</th>\n",
       "      <td>0.002469</td>\n",
       "      <td>-0.002138</td>\n",
       "      <td>-0.002473</td>\n",
       "      <td>-0.004937</td>\n",
       "      <td>0.000753</td>\n",
       "      <td>0.011164</td>\n",
       "    </tr>\n",
       "  </tbody>\n",
       "</table>\n",
       "</div>"
      ],
      "text/plain": [
       "Ticker          AAPL      AMZN      GOOG      MSFT      NVDA      TSLA\n",
       "Date                                                                  \n",
       "2022-12-23 -0.002798  0.017425  0.017562  0.002267 -0.008671 -0.017551\n",
       "2022-12-27 -0.013878 -0.025924 -0.020933 -0.007414 -0.071353 -0.114089\n",
       "2022-12-28 -0.030685 -0.014692 -0.016718 -0.010255 -0.006019  0.033089\n",
       "2022-12-29  0.028324  0.028844  0.028799  0.027630  0.040396  0.080827\n",
       "2022-12-30  0.002469 -0.002138 -0.002473 -0.004937  0.000753  0.011164"
      ]
     },
     "execution_count": 5,
     "metadata": {},
     "output_type": "execute_result"
    }
   ],
   "source": [
    "returns = yahoo[\"Adj Close\"].pct_change().loc[\"2011-01\":\"2023-01\"]\n",
    "returns.tail()"
   ]
  },
  {
   "cell_type": "code",
   "execution_count": null,
   "id": "4fccc2cd",
   "metadata": {},
   "outputs": [],
   "source": []
  },
  {
   "cell_type": "code",
   "execution_count": 6,
   "id": "4390b3a0",
   "metadata": {},
   "outputs": [],
   "source": [
    "def sharpe(x,r,tgt=0,t=252):\n",
    "    rp = np.dot(r,x)\n",
    "    ret = rp-tgt\n",
    "    return -(np.sqrt(t)*ret.mean()/ret.std())"
   ]
  },
  {
   "cell_type": "code",
   "execution_count": 7,
   "id": "ba5422e8",
   "metadata": {},
   "outputs": [],
   "source": [
    "weight = sco.minimize(\n",
    "        fun= sharpe,\n",
    "        x0= np.ones(returns.shape[1])/returns.shape[1],\n",
    "        args= (returns),\n",
    "        bounds= [(0,0.3) for _ in returns],\n",
    "        constraints = (\n",
    "            {\"type\": \"eq\", \"fun\": lambda x : x.sum() - 1}\n",
    "        )\n",
    "    \n",
    ")      \n",
    "weights = weight[\"x\"]"
   ]
  },
  {
   "cell_type": "code",
   "execution_count": 8,
   "id": "cb3d1719",
   "metadata": {},
   "outputs": [],
   "source": [
    "sharpe_port = returns.dot(weights)"
   ]
  },
  {
   "cell_type": "code",
   "execution_count": 9,
   "id": "977cab71",
   "metadata": {},
   "outputs": [],
   "source": [
    "def sharpe_p (r,tgt=0, t=252):\n",
    "    er = r-tgt\n",
    "    return np.sqrt(t)* er.mean()/er.std()"
   ]
  },
  {
   "cell_type": "code",
   "execution_count": 10,
   "id": "62d4475d",
   "metadata": {},
   "outputs": [],
   "source": [
    "sr_rolling = sharpe_port.rolling(252,200).apply(sharpe_p)"
   ]
  },
  {
   "cell_type": "code",
   "execution_count": 11,
   "id": "bdab3d67",
   "metadata": {
    "deletable": false,
    "editable": false,
    "scrolled": false
   },
   "outputs": [
    {
     "data": {
      "text/html": [
       "<p><strong><pre style='display: inline;'>q1</pre></strong> passed! ✨</p><p><strong><pre style='display: inline;'>q1 - 1</pre> message:</strong> yahoo has the right shape (+10 pts)</p><p><strong><pre style='display: inline;'>q1 - 2</pre> message:</strong> yahoo has the right Adj Close column sums (+10 pts)</p><p><strong><pre style='display: inline;'>q1 - 3</pre> message:</strong> weights has the right shape (+10 pts)</p><p><strong><pre style='display: inline;'>q1 - 4</pre> message:</strong> weights values fall between 0 and 0.3 (+10 pts)</p><p><strong><pre style='display: inline;'>q1 - 5</pre> message:</strong> weights sum to 1 (+10 pts)</p><p><strong><pre style='display: inline;'>q1 - 6</pre> message:</strong> sr_rolling has the right shape (+5 pts)</p><p><strong><pre style='display: inline;'>q1 - 7</pre> message:</strong> sr_rolling has the right number of non-missing values (+5 pts)</p><p><strong><pre style='display: inline;'>q1 - 8</pre> message:</strong> sr_rolling has a positive sum (+5 pts)</p><p><strong><pre style='display: inline;'>q1 - 9</pre> message:</strong> sr_rolling has a sum > 500 (+5 pts)</p>"
      ],
      "text/plain": [
       "q1 results: All test cases passed!\n",
       "q1 - 1 message: yahoo has the right shape (+10 pts)\n",
       "q1 - 2 message: yahoo has the right Adj Close column sums (+10 pts)\n",
       "q1 - 3 message: weights has the right shape (+10 pts)\n",
       "q1 - 4 message: weights values fall between 0 and 0.3 (+10 pts)\n",
       "q1 - 5 message: weights sum to 1 (+10 pts)\n",
       "q1 - 6 message: sr_rolling has the right shape (+5 pts)\n",
       "q1 - 7 message: sr_rolling has the right number of non-missing values (+5 pts)\n",
       "q1 - 8 message: sr_rolling has a positive sum (+5 pts)\n",
       "q1 - 9 message: sr_rolling has a sum > 500 (+5 pts)"
      ]
     },
     "execution_count": 11,
     "metadata": {},
     "output_type": "execute_result"
    }
   ],
   "source": [
    "grader.check(\"q1\")"
   ]
  },
  {
   "cell_type": "markdown",
   "id": "cd418cdb",
   "metadata": {
    "deletable": false,
    "editable": false
   },
   "source": [
    "## Submission\n",
    "\n",
    "Make sure you have run all cells in your notebook in order before running the cell below, so that all images/graphs appear in the output. The cell below will generate a zip file for you to submit. **Please save before exporting!**"
   ]
  },
  {
   "cell_type": "code",
   "execution_count": null,
   "id": "5ba7879e",
   "metadata": {
    "deletable": false,
    "editable": false,
    "scrolled": false
   },
   "outputs": [
    {
     "name": "stdout",
     "output_type": "stream",
     "text": [
      "Running your submission against local test cases...\n",
      "\n"
     ]
    }
   ],
   "source": [
    "# Save your notebook first, then run this cell to export your submission.\n",
    "grader.export(pdf=False, run_tests=True)"
   ]
  },
  {
   "cell_type": "markdown",
   "id": "ae78f89c",
   "metadata": {},
   "source": [
    " "
   ]
  }
 ],
 "metadata": {
  "kernelspec": {
   "display_name": "Python 3 (ipykernel)",
   "language": "python",
   "name": "python3"
  },
  "language_info": {
   "codemirror_mode": {
    "name": "ipython",
    "version": 3
   },
   "file_extension": ".py",
   "mimetype": "text/x-python",
   "name": "python",
   "nbconvert_exporter": "python",
   "pygments_lexer": "ipython3",
   "version": "3.9.13"
  },
  "otter": {
   "OK_FORMAT": true,
   "tests": {
    "q1": {
     "name": "q1",
     "points": null,
     "suites": [
      {
       "cases": [
        {
         "code": ">>> yahoo.shape == (10671, 36)\nTrue",
         "failure_message": "yahoo has the wrong shape (+0 pts)",
         "hidden": false,
         "locked": false,
         "points": 10,
         "success_message": "yahoo has the right shape (+10 pts)"
        },
        {
         "code": ">>> np.allclose(yahoo['Adj Close'].sum().values, np.array([177461.84397135, 206208.61394934, 180642.82432055, 393585.96007783, 187086.25384754, 197001.72133398]))\nTrue",
         "failure_message": "yahoo has the wrong Adj Close column sums (+0 pts)",
         "hidden": false,
         "locked": false,
         "points": 10,
         "success_message": "yahoo has the right Adj Close column sums (+10 pts)"
        },
        {
         "code": ">>> weights.shape == (6,)\nTrue",
         "failure_message": "weights has the wrong shape (+0 pts)",
         "hidden": false,
         "locked": false,
         "points": 10,
         "success_message": "weights has the right shape (+10 pts)"
        },
        {
         "code": ">>> ((0 <= weights) & (weights <= 0.3)).all()\nTrue",
         "failure_message": "weights values do not fall between 0 and 0.3 (+0 pts)",
         "hidden": false,
         "locked": false,
         "points": 10,
         "success_message": "weights values fall between 0 and 0.3 (+10 pts)"
        },
        {
         "code": ">>> np.allclose(weights.sum(), 1)\nTrue",
         "failure_message": "weights do not sum to 1 (+0 pts)",
         "hidden": false,
         "locked": false,
         "points": 10,
         "success_message": "weights sum to 1 (+10 pts)"
        },
        {
         "code": ">>> sr_rolling.shape == (3020,)\nTrue",
         "failure_message": "sr_rolling has the wrong shape (+0 pts)",
         "hidden": false,
         "locked": false,
         "points": 5,
         "success_message": "sr_rolling has the right shape (+5 pts)"
        },
        {
         "code": ">>> sr_rolling.notna().sum() == 2821\nTrue",
         "failure_message": "sr_rolling has the wrong number of non-missing values (+0 pts)",
         "hidden": false,
         "locked": false,
         "points": 5,
         "success_message": "sr_rolling has the right number of non-missing values (+5 pts)"
        },
        {
         "code": ">>> sr_rolling.sum() > 0\nTrue",
         "failure_message": "sr_rolling does not have a positive sum (+0 pts)",
         "hidden": false,
         "locked": false,
         "points": 5,
         "success_message": "sr_rolling has a positive sum (+5 pts)"
        },
        {
         "code": ">>> sr_rolling.sum() > 500\nTrue",
         "failure_message": "sr_rolling does not have a sum > 500 (+0 pts)",
         "hidden": false,
         "locked": false,
         "points": 5,
         "success_message": "sr_rolling has a sum > 500 (+5 pts)"
        }
       ],
       "scored": true,
       "setup": "",
       "teardown": "",
       "type": "doctest"
      }
     ]
    }
   }
  }
 },
 "nbformat": 4,
 "nbformat_minor": 5
}
