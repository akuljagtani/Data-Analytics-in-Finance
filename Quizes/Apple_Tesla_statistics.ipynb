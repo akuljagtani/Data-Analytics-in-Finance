{
 "cells": [
  {
   "cell_type": "code",
   "execution_count": 1,
   "id": "0d21fd73",
   "metadata": {
    "deletable": false,
    "editable": false
   },
   "outputs": [],
   "source": [
    "# Initialize Otter\n",
    "import otter\n",
    "grader = otter.Notebook(\"quiz_04.ipynb\")"
   ]
  },
  {
   "cell_type": "markdown",
   "id": "5669d838",
   "metadata": {},
   "source": [
    "# Quiz 4"
   ]
  },
  {
   "cell_type": "markdown",
   "id": "11685ce3",
   "metadata": {},
   "source": [
    "## Instructions"
   ]
  },
  {
   "cell_type": "markdown",
   "id": "ec571356",
   "metadata": {},
   "source": [
    "1. After you answer a question, you should run its public tests.\n",
    "1. After you answer every question, you should:\n",
    "    1. Restart your kernel and clear all output\n",
    "    1. Run up to the last cell\n",
    "    1. Save your notebook\n",
    "    1. Run the last cell to create a .zip file for Gradescope\n",
    "    1. Upload this .zip file to Gradescope\n",
    "    1. ***Make sure your Gradescope autograder results match your local autograder results***\n",
    "1. This quiz has public and hidden tests:\n",
    "    1. Public tests check your answers for correct types and shapes but may not completely check your answers\n",
    "    1. Hidden tests completely check your answers but will not be available until after the due date\n",
    "    1. *If all tests were public, you could quickly reverse-engineer incorrect answers that trick the autograder*\n",
    "1. You may ask technical questions on Canvas Discussions, but this quiz is an individual effort."
   ]
  },
  {
   "cell_type": "markdown",
   "id": "1d323ee1",
   "metadata": {},
   "source": [
    "## Packages and Settings"
   ]
  },
  {
   "cell_type": "code",
   "execution_count": 2,
   "id": "508b8d70",
   "metadata": {},
   "outputs": [],
   "source": [
    "import matplotlib.pyplot as plt\n",
    "import numpy as np\n",
    "import pandas as pd"
   ]
  },
  {
   "cell_type": "markdown",
   "id": "b5875d3c",
   "metadata": {},
   "source": [
    "## Data"
   ]
  },
  {
   "cell_type": "markdown",
   "id": "2660cfd6",
   "metadata": {},
   "source": [
    "I used the following code to download and save the raw data you need for this quiz.\n",
    "These are Yahoo! Finance daily data from 2011 through 2022 (inclusive).\n",
    "***You should review the following code but not run it.***"
   ]
  },
  {
   "cell_type": "code",
   "execution_count": 3,
   "id": "59514e94",
   "metadata": {},
   "outputs": [],
   "source": [
    "# import yfinance as yf\n",
    "# import pandas_datareader as pdr\n",
    "\n",
    "# (\n",
    "#     yf.Tickers(tickers=['AAPL', 'TSLA'])\n",
    "#     .history(period='max', auto_adjust=False, progress=False)\n",
    "#     .assign(Date = lambda x: x.index.tz_localize(None))\n",
    "#     .set_index('Date')\n",
    "#     .loc['2011':'2022']\n",
    "#     .to_csv('yahoo.csv')\n",
    "# )"
   ]
  },
  {
   "cell_type": "markdown",
   "id": "8385e82c",
   "metadata": {},
   "source": [
    "I used the following code to load the raw data you need for this quiz.\n",
    "***Run the following code as-is (i.e., do not change it).***"
   ]
  },
  {
   "cell_type": "code",
   "execution_count": 4,
   "id": "98049fea",
   "metadata": {},
   "outputs": [
    {
     "data": {
      "text/html": [
       "<div>\n",
       "<style scoped>\n",
       "    .dataframe tbody tr th:only-of-type {\n",
       "        vertical-align: middle;\n",
       "    }\n",
       "\n",
       "    .dataframe tbody tr th {\n",
       "        vertical-align: top;\n",
       "    }\n",
       "\n",
       "    .dataframe thead tr th {\n",
       "        text-align: left;\n",
       "    }\n",
       "\n",
       "    .dataframe thead tr:last-of-type th {\n",
       "        text-align: right;\n",
       "    }\n",
       "</style>\n",
       "<table border=\"1\" class=\"dataframe\">\n",
       "  <thead>\n",
       "    <tr>\n",
       "      <th>Variable</th>\n",
       "      <th colspan=\"2\" halign=\"left\">Adj Close</th>\n",
       "      <th colspan=\"2\" halign=\"left\">Close</th>\n",
       "      <th colspan=\"2\" halign=\"left\">Dividends</th>\n",
       "      <th colspan=\"2\" halign=\"left\">High</th>\n",
       "      <th colspan=\"2\" halign=\"left\">Low</th>\n",
       "      <th colspan=\"2\" halign=\"left\">Open</th>\n",
       "      <th colspan=\"2\" halign=\"left\">Stock Splits</th>\n",
       "      <th colspan=\"2\" halign=\"left\">Volume</th>\n",
       "    </tr>\n",
       "    <tr>\n",
       "      <th>Ticker</th>\n",
       "      <th>AAPL</th>\n",
       "      <th>TSLA</th>\n",
       "      <th>AAPL</th>\n",
       "      <th>TSLA</th>\n",
       "      <th>AAPL</th>\n",
       "      <th>TSLA</th>\n",
       "      <th>AAPL</th>\n",
       "      <th>TSLA</th>\n",
       "      <th>AAPL</th>\n",
       "      <th>TSLA</th>\n",
       "      <th>AAPL</th>\n",
       "      <th>TSLA</th>\n",
       "      <th>AAPL</th>\n",
       "      <th>TSLA</th>\n",
       "      <th>AAPL</th>\n",
       "      <th>TSLA</th>\n",
       "    </tr>\n",
       "    <tr>\n",
       "      <th>Date</th>\n",
       "      <th></th>\n",
       "      <th></th>\n",
       "      <th></th>\n",
       "      <th></th>\n",
       "      <th></th>\n",
       "      <th></th>\n",
       "      <th></th>\n",
       "      <th></th>\n",
       "      <th></th>\n",
       "      <th></th>\n",
       "      <th></th>\n",
       "      <th></th>\n",
       "      <th></th>\n",
       "      <th></th>\n",
       "      <th></th>\n",
       "      <th></th>\n",
       "    </tr>\n",
       "  </thead>\n",
       "  <tbody>\n",
       "    <tr>\n",
       "      <th>2011-01-03</th>\n",
       "      <td>10.017971</td>\n",
       "      <td>1.774667</td>\n",
       "      <td>11.770357</td>\n",
       "      <td>1.774667</td>\n",
       "      <td>0.0</td>\n",
       "      <td>0.0</td>\n",
       "      <td>11.795000</td>\n",
       "      <td>1.800000</td>\n",
       "      <td>11.601429</td>\n",
       "      <td>1.726667</td>\n",
       "      <td>11.630000</td>\n",
       "      <td>1.789333</td>\n",
       "      <td>0.0</td>\n",
       "      <td>0.0</td>\n",
       "      <td>445138400</td>\n",
       "      <td>19245000.0</td>\n",
       "    </tr>\n",
       "    <tr>\n",
       "      <th>2011-01-04</th>\n",
       "      <td>10.070251</td>\n",
       "      <td>1.778000</td>\n",
       "      <td>11.831786</td>\n",
       "      <td>1.778000</td>\n",
       "      <td>0.0</td>\n",
       "      <td>0.0</td>\n",
       "      <td>11.875000</td>\n",
       "      <td>1.796667</td>\n",
       "      <td>11.719643</td>\n",
       "      <td>1.734667</td>\n",
       "      <td>11.872857</td>\n",
       "      <td>1.777333</td>\n",
       "      <td>0.0</td>\n",
       "      <td>0.0</td>\n",
       "      <td>309080800</td>\n",
       "      <td>17811000.0</td>\n",
       "    </tr>\n",
       "    <tr>\n",
       "      <th>2011-01-05</th>\n",
       "      <td>10.152624</td>\n",
       "      <td>1.788667</td>\n",
       "      <td>11.928571</td>\n",
       "      <td>1.788667</td>\n",
       "      <td>0.0</td>\n",
       "      <td>0.0</td>\n",
       "      <td>11.940714</td>\n",
       "      <td>1.793333</td>\n",
       "      <td>11.767857</td>\n",
       "      <td>1.746000</td>\n",
       "      <td>11.769643</td>\n",
       "      <td>1.765333</td>\n",
       "      <td>0.0</td>\n",
       "      <td>0.0</td>\n",
       "      <td>255519600</td>\n",
       "      <td>21700500.0</td>\n",
       "    </tr>\n",
       "    <tr>\n",
       "      <th>2011-01-06</th>\n",
       "      <td>10.144423</td>\n",
       "      <td>1.858667</td>\n",
       "      <td>11.918929</td>\n",
       "      <td>1.858667</td>\n",
       "      <td>0.0</td>\n",
       "      <td>0.0</td>\n",
       "      <td>11.973214</td>\n",
       "      <td>1.866667</td>\n",
       "      <td>11.889286</td>\n",
       "      <td>1.787333</td>\n",
       "      <td>11.954286</td>\n",
       "      <td>1.788667</td>\n",
       "      <td>0.0</td>\n",
       "      <td>0.0</td>\n",
       "      <td>300428800</td>\n",
       "      <td>30918000.0</td>\n",
       "    </tr>\n",
       "    <tr>\n",
       "      <th>2011-01-07</th>\n",
       "      <td>10.217068</td>\n",
       "      <td>1.882667</td>\n",
       "      <td>12.004286</td>\n",
       "      <td>1.882667</td>\n",
       "      <td>0.0</td>\n",
       "      <td>0.0</td>\n",
       "      <td>12.012500</td>\n",
       "      <td>1.905333</td>\n",
       "      <td>11.853571</td>\n",
       "      <td>1.860000</td>\n",
       "      <td>11.928214</td>\n",
       "      <td>1.866667</td>\n",
       "      <td>0.0</td>\n",
       "      <td>0.0</td>\n",
       "      <td>311931200</td>\n",
       "      <td>33718500.0</td>\n",
       "    </tr>\n",
       "  </tbody>\n",
       "</table>\n",
       "</div>"
      ],
      "text/plain": [
       "Variable    Adj Close                Close           Dividends       \\\n",
       "Ticker           AAPL      TSLA       AAPL      TSLA      AAPL TSLA   \n",
       "Date                                                                  \n",
       "2011-01-03  10.017971  1.774667  11.770357  1.774667       0.0  0.0   \n",
       "2011-01-04  10.070251  1.778000  11.831786  1.778000       0.0  0.0   \n",
       "2011-01-05  10.152624  1.788667  11.928571  1.788667       0.0  0.0   \n",
       "2011-01-06  10.144423  1.858667  11.918929  1.858667       0.0  0.0   \n",
       "2011-01-07  10.217068  1.882667  12.004286  1.882667       0.0  0.0   \n",
       "\n",
       "Variable         High                  Low                 Open            \\\n",
       "Ticker           AAPL      TSLA       AAPL      TSLA       AAPL      TSLA   \n",
       "Date                                                                        \n",
       "2011-01-03  11.795000  1.800000  11.601429  1.726667  11.630000  1.789333   \n",
       "2011-01-04  11.875000  1.796667  11.719643  1.734667  11.872857  1.777333   \n",
       "2011-01-05  11.940714  1.793333  11.767857  1.746000  11.769643  1.765333   \n",
       "2011-01-06  11.973214  1.866667  11.889286  1.787333  11.954286  1.788667   \n",
       "2011-01-07  12.012500  1.905333  11.853571  1.860000  11.928214  1.866667   \n",
       "\n",
       "Variable   Stock Splits          Volume              \n",
       "Ticker             AAPL TSLA       AAPL        TSLA  \n",
       "Date                                                 \n",
       "2011-01-03          0.0  0.0  445138400  19245000.0  \n",
       "2011-01-04          0.0  0.0  309080800  17811000.0  \n",
       "2011-01-05          0.0  0.0  255519600  21700500.0  \n",
       "2011-01-06          0.0  0.0  300428800  30918000.0  \n",
       "2011-01-07          0.0  0.0  311931200  33718500.0  "
      ]
     },
     "execution_count": 4,
     "metadata": {},
     "output_type": "execute_result"
    }
   ],
   "source": [
    "yahoo = (\n",
    "    pd.read_csv(\n",
    "        filepath_or_buffer='yahoo.csv',\n",
    "        header=[0, 1],\n",
    "        index_col=0, \n",
    "        parse_dates=True\n",
    "    )\n",
    "    .rename_axis(columns=['Variable', 'Ticker'])\n",
    ")\n",
    "\n",
    "yahoo.head()"
   ]
  },
  {
   "cell_type": "markdown",
   "id": "08e9f037",
   "metadata": {},
   "source": [
    "## Questions"
   ]
  },
  {
   "cell_type": "markdown",
   "id": "23450b86",
   "metadata": {
    "tags": []
   },
   "source": [
    "### Question 1"
   ]
  },
  {
   "cell_type": "markdown",
   "id": "a66b1b89",
   "metadata": {},
   "source": [
    "Calculate the decimal daily returns for AAPL and TSLA.\n",
    "Add these return to data frame `yahoo` with outer index level name `Returns`.\n",
    "\n",
    "_Points:_ 20"
   ]
  },
  {
   "cell_type": "code",
   "execution_count": 5,
   "id": "9b1d342f",
   "metadata": {
    "tags": []
   },
   "outputs": [],
   "source": [
    "_ = pd.MultiIndex.from_product([['Returns'], yahoo['Adj Close']])\n",
    "yahoo[_] = yahoo['Adj Close'].pct_change()"
   ]
  },
  {
   "cell_type": "code",
   "execution_count": 6,
   "id": "157e9237",
   "metadata": {
    "deletable": false,
    "editable": false
   },
   "outputs": [
    {
     "data": {
      "text/html": [
       "<p><strong><pre style='display: inline;'>q1</pre></strong> passed! 🌟</p><p><strong><pre style='display: inline;'>q1 - 1</pre> message:</strong> yahoo has a column multi-index (+10 pts)</p><p><strong><pre style='display: inline;'>q1 - 2</pre> message:</strong> yahoo has the expected column sums (+10 pts)</p>"
      ],
      "text/plain": [
       "q1 results: All test cases passed!\n",
       "q1 - 1 message: yahoo has a column multi-index (+10 pts)\n",
       "q1 - 2 message: yahoo has the expected column sums (+10 pts)"
      ]
     },
     "execution_count": 6,
     "metadata": {},
     "output_type": "execute_result"
    }
   ],
   "source": [
    "grader.check(\"q1\")"
   ]
  },
  {
   "cell_type": "markdown",
   "id": "6a2dcd66",
   "metadata": {
    "tags": []
   },
   "source": [
    "### Question 2"
   ]
  },
  {
   "cell_type": "markdown",
   "id": "c0c9546b",
   "metadata": {},
   "source": [
    "Calculate the monthly mean and standard deviation of returns for AAPL and TSLA from 2015 through 2022 (inclusive).\n",
    "Assign this new data frame to `yahoo_m`.\n",
    "Leave your means and standard deviations as daily decimal return values (i.e., do not annualize or convert to percent).\n",
    "\n",
    "***Note: This question has 2 hidden tests worth 20 points.***\n",
    "\n",
    "_Points:_ 40"
   ]
  },
  {
   "cell_type": "code",
   "execution_count": 7,
   "id": "f9ab49e0",
   "metadata": {
    "tags": []
   },
   "outputs": [],
   "source": [
    "yahoo_m = (\n",
    "    yahoo.loc[\"2015\":\"2022\"][\"Returns\"]\n",
    "    .groupby(pd.Grouper(freq='M'))\n",
    "    .agg(['mean','std'])\n",
    ")"
   ]
  },
  {
   "cell_type": "code",
   "execution_count": 8,
   "id": "5db936a0",
   "metadata": {
    "deletable": false,
    "editable": false
   },
   "outputs": [
    {
     "data": {
      "text/html": [
       "<p><strong><pre style='display: inline;'>q2</pre></strong> passed! 🍀</p><p><strong><pre style='display: inline;'>q2 - 1</pre> message:</strong> yahoo_m has the shape (96, 4) (+10 pts)</p><p><strong><pre style='display: inline;'>q2 - 2</pre> message:</strong> yahoo_m column multi-index has the correct levels (+10 pts)</p>"
      ],
      "text/plain": [
       "q2 results: All test cases passed!\n",
       "q2 - 1 message: yahoo_m has the shape (96, 4) (+10 pts)\n",
       "q2 - 2 message: yahoo_m column multi-index has the correct levels (+10 pts)"
      ]
     },
     "execution_count": 8,
     "metadata": {},
     "output_type": "execute_result"
    }
   ],
   "source": [
    "grader.check(\"q2\")"
   ]
  },
  {
   "cell_type": "markdown",
   "id": "6d3e7596",
   "metadata": {
    "tags": []
   },
   "source": [
    "### Question 3"
   ]
  },
  {
   "cell_type": "markdown",
   "id": "b41b9e61",
   "metadata": {},
   "source": [
    "<!-- BEGIN QUESTION -->\n",
    "\n",
    "Create portfolio of AAPL and TSLA where $w_{AAPL} = \\frac{1}{3}$ and $w_{TSLA} = \\frac{2}{3}$.\n",
    "Assign the daily decimal returns for this portfolio to series `yahoo_p`.\n",
    "Calculate the total return on this portfolio from 2014 to 2022 (inclusive) and assign this value to `totret`.\n",
    "Leave `totret` as a decimal return (i.e., do not convert it to percent).\n",
    "\n",
    "***Note: This question has 2 hidden tests worth 20 points.***\n",
    "\n",
    "_Points:_ 40"
   ]
  },
  {
   "cell_type": "code",
   "execution_count": 20,
   "id": "8db76509",
   "metadata": {},
   "outputs": [
    {
     "data": {
      "text/plain": [
       "12.408753257389012"
      ]
     },
     "execution_count": 20,
     "metadata": {},
     "output_type": "execute_result"
    }
   ],
   "source": [
    "yahoo_p= yahoo[\"Returns\"].dot([1/3,2/3])\n",
    "totret = (yahoo_p[\"2014\":\"2022\"].add(1).prod())-1\n",
    "totret"
   ]
  },
  {
   "cell_type": "code",
   "execution_count": null,
   "id": "268c67ae",
   "metadata": {
    "deletable": false,
    "editable": false
   },
   "outputs": [],
   "source": [
    "grader.check(\"q3\")"
   ]
  },
  {
   "cell_type": "markdown",
   "id": "96afa362",
   "metadata": {},
   "source": [
    "<!-- END QUESTION -->\n",
    "\n"
   ]
  },
  {
   "cell_type": "markdown",
   "id": "390a3da7",
   "metadata": {
    "deletable": false,
    "editable": false
   },
   "source": [
    "## Submission\n",
    "\n",
    "Make sure you have run all cells in your notebook in order before running the cell below, so that all images/graphs appear in the output. The cell below will generate a zip file for you to submit. **Please save before exporting!**"
   ]
  },
  {
   "cell_type": "code",
   "execution_count": null,
   "id": "c456403e",
   "metadata": {
    "deletable": false,
    "editable": false
   },
   "outputs": [],
   "source": [
    "# Save your notebook first, then run this cell to export your submission.\n",
    "grader.export(pdf=False, run_tests=True)"
   ]
  },
  {
   "cell_type": "markdown",
   "id": "b423ffae",
   "metadata": {},
   "source": [
    " "
   ]
  }
 ],
 "metadata": {
  "kernelspec": {
   "display_name": "Python 3 (ipykernel)",
   "language": "python",
   "name": "python3"
  },
  "language_info": {
   "codemirror_mode": {
    "name": "ipython",
    "version": 3
   },
   "file_extension": ".py",
   "mimetype": "text/x-python",
   "name": "python",
   "nbconvert_exporter": "python",
   "pygments_lexer": "ipython3",
   "version": "3.9.13"
  },
  "otter": {
   "OK_FORMAT": true,
   "tests": {
    "q1": {
     "name": "q1",
     "points": 20,
     "suites": [
      {
       "cases": [
        {
         "code": ">>> type(yahoo.columns) is pd.core.indexes.multi.MultiIndex\nTrue",
         "failure_message": "yahoo should have a column multi-index (+0 pts)",
         "hidden": false,
         "locked": false,
         "points": 10,
         "success_message": "yahoo has a column multi-index (+10 pts)"
        },
        {
         "code": ">>> np.allclose(yahoo['Returns'].sum().values, np.array([3.06190606, 6.13513954]))\nTrue",
         "failure_message": "yahoo does not have the expected column sums (+0 pts)",
         "hidden": false,
         "locked": false,
         "points": 10,
         "success_message": "yahoo has the expected column sums (+10 pts)"
        }
       ],
       "scored": true,
       "setup": "",
       "teardown": "",
       "type": "doctest"
      }
     ]
    },
    "q2": {
     "name": "q2",
     "points": 40,
     "suites": [
      {
       "cases": [
        {
         "code": ">>> yahoo_m.shape == (96, 4)\nTrue",
         "failure_message": "yahoo_m should have the shape (96, 4) (+0 pts)",
         "hidden": false,
         "locked": false,
         "points": 10,
         "success_message": "yahoo_m has the shape (96, 4) (+10 pts)"
        },
        {
         "code": ">>> (yahoo_m.columns.get_level_values(0).to_list() == ['AAPL', 'AAPL', 'TSLA', 'TSLA']) & (yahoo_m.columns.get_level_values(1).to_list() == ['mean', 'std', 'mean', 'std'])\nTrue",
         "failure_message": "yahoo_m column multi-index has the incorrect levels (+0 pts)",
         "hidden": false,
         "locked": false,
         "points": 10,
         "success_message": "yahoo_m column multi-index has the correct levels (+10 pts)"
        }
       ],
       "scored": true,
       "setup": "",
       "teardown": "",
       "type": "doctest"
      }
     ]
    },
    "q3": {
     "name": "q3",
     "points": 40,
     "suites": [
      {
       "cases": [
        {
         "code": ">>> (yahoo_p.shape == (3020,)) & ((type(totret) is float) | (type(totret) is np.float64))\nTrue",
         "failure_message": "yahoo_p should have the shape (3020,) and totret should be a float (+0 pts)",
         "hidden": false,
         "locked": false,
         "points": 10,
         "success_message": "yahoo_p has the shape (3020,) and totret is a float (+10 pts)"
        },
        {
         "code": ">>> yahoo['Returns'].sum().min() < yahoo_p.sum() < yahoo['Returns'].sum().max()\nTrue",
         "failure_message": "sum of yahoo_p should be between sums of AAPL and TSLA (+0 pts)",
         "hidden": false,
         "locked": false,
         "points": 10,
         "success_message": "sum of yahoo_p is between sums of AAPL and TSLA (+10 pts)"
        }
       ],
       "scored": true,
       "setup": "",
       "teardown": "",
       "type": "doctest"
      }
     ]
    }
   }
  }
 },
 "nbformat": 4,
 "nbformat_minor": 5
}
