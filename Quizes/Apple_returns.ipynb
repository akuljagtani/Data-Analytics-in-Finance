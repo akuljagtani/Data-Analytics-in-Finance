{
 "cells": [
  {
   "cell_type": "code",
   "execution_count": 1,
   "id": "2e716b86",
   "metadata": {
    "deletable": false,
    "editable": false
   },
   "outputs": [],
   "source": [
    "# Initialize Otter\n",
    "import otter\n",
    "grader = otter.Notebook(\"quiz_03.ipynb\")"
   ]
  },
  {
   "cell_type": "markdown",
   "id": "6d8b6101",
   "metadata": {},
   "source": [
    "# Quiz 3"
   ]
  },
  {
   "cell_type": "markdown",
   "id": "33440d25",
   "metadata": {},
   "source": [
    "## Instructions"
   ]
  },
  {
   "cell_type": "markdown",
   "id": "6f443f82",
   "metadata": {},
   "source": [
    "\n",
    "1. After you answer a question, you should run its public tests.\n",
    "1. After you answer every question, you should:\n",
    "    1. Restart your kernel and clear all output\n",
    "    1. Run up to the last cell\n",
    "    1. Save your notebook\n",
    "    1. Run the last cell to create a .zip file for Gradescope\n",
    "    1. Upload this .zip file to Gradescope\n",
    "    1. ***Make sure your local autograder results match your Gradescope autograder results***\n",
    "1. This quiz has public and hidden tests:\n",
    "    1. Public tests check your answers for correct types and shapes but may not completely check your answers\n",
    "    1. Hidden tests completely check your answers but will not be available until after the due date\n",
    "    1. *If all tests were public, you could quickly reverse-engineer incorrect answers that trick the autograder*\n",
    "1. You may ask technical questions on Canvas Discussions, but this quiz is an individual effort."
   ]
  },
  {
   "cell_type": "markdown",
   "id": "2cb1d815",
   "metadata": {},
   "source": [
    "## Packages and Settings"
   ]
  },
  {
   "cell_type": "code",
   "execution_count": 2,
   "id": "ceb685db",
   "metadata": {},
   "outputs": [],
   "source": [
    "import matplotlib.pyplot as plt\n",
    "import numpy as np\n",
    "import pandas as pd"
   ]
  },
  {
   "cell_type": "markdown",
   "id": "c2420cb8",
   "metadata": {},
   "source": [
    "## Data"
   ]
  },
  {
   "cell_type": "markdown",
   "id": "955598b2",
   "metadata": {},
   "source": [
    "I used the following code to download and save the raw data you need for this quiz.\n",
    "***You should review the following code but not run it.***"
   ]
  },
  {
   "cell_type": "code",
   "execution_count": null,
   "id": "4db69d60",
   "metadata": {},
   "outputs": [],
   "source": [
    "# import yfinance as yf\n",
    "# import pandas_datareader as pdr\n",
    "\n",
    "# # download daily data for AAPL, remove timezone from date index, and save to CSV\n",
    "# (\n",
    "#     yf.Ticker(ticker='AAPL')\n",
    "#     .history(period='max', auto_adjust=False)\n",
    "#     .assign(Date = lambda x: x.index.tz_localize(None))\n",
    "#     .set_index('Date')\n",
    "#     .loc[:'2023-01']\n",
    "#     .to_csv('aapl.csv')\n",
    "# )\n",
    "\n",
    "# # download daily factors and save to CSV\n",
    "# (\n",
    "#     pdr.DataReader(\n",
    "#         name='F-F_Research_Data_Factors_daily',\n",
    "#         data_source='famafrench',\n",
    "#         start='1900'\n",
    "#     )\n",
    "#     [0]\n",
    "#     .to_csv('ff.csv')\n",
    "# )"
   ]
  },
  {
   "cell_type": "markdown",
   "id": "d002debb",
   "metadata": {},
   "source": [
    "I used the following code to load the raw data you need for this quiz.\n",
    "***Run the following code as-is (i.e., do not change it).***"
   ]
  },
  {
   "cell_type": "code",
   "execution_count": 3,
   "id": "d2e59cd7",
   "metadata": {},
   "outputs": [],
   "source": [
    "aapl = pd.read_csv('aapl.csv', index_col='Date', parse_dates=True)"
   ]
  },
  {
   "cell_type": "code",
   "execution_count": 4,
   "id": "f1bfccbe",
   "metadata": {},
   "outputs": [],
   "source": [
    "ff = pd.read_csv('ff.csv', index_col='Date', parse_dates=True)"
   ]
  },
  {
   "cell_type": "markdown",
   "id": "db655092",
   "metadata": {},
   "source": [
    "## Questions"
   ]
  },
  {
   "cell_type": "markdown",
   "id": "8f490459",
   "metadata": {
    "tags": []
   },
   "source": [
    "### Question 1"
   ]
  },
  {
   "cell_type": "markdown",
   "id": "af42c6a1",
   "metadata": {},
   "source": [
    "Calculate the decimal daily returns for AAPL and add them to the data frame `aapl` as column `Returns`.\n",
    "\n",
    "_Points:_ 20"
   ]
  },
  {
   "cell_type": "code",
   "execution_count": 5,
   "id": "a2db1b6f",
   "metadata": {},
   "outputs": [
    {
     "data": {
      "text/html": [
       "<div>\n",
       "<style scoped>\n",
       "    .dataframe tbody tr th:only-of-type {\n",
       "        vertical-align: middle;\n",
       "    }\n",
       "\n",
       "    .dataframe tbody tr th {\n",
       "        vertical-align: top;\n",
       "    }\n",
       "\n",
       "    .dataframe thead th {\n",
       "        text-align: right;\n",
       "    }\n",
       "</style>\n",
       "<table border=\"1\" class=\"dataframe\">\n",
       "  <thead>\n",
       "    <tr style=\"text-align: right;\">\n",
       "      <th></th>\n",
       "      <th>Open</th>\n",
       "      <th>High</th>\n",
       "      <th>Low</th>\n",
       "      <th>Close</th>\n",
       "      <th>Adj Close</th>\n",
       "      <th>Volume</th>\n",
       "      <th>Dividends</th>\n",
       "      <th>Stock Splits</th>\n",
       "    </tr>\n",
       "    <tr>\n",
       "      <th>Date</th>\n",
       "      <th></th>\n",
       "      <th></th>\n",
       "      <th></th>\n",
       "      <th></th>\n",
       "      <th></th>\n",
       "      <th></th>\n",
       "      <th></th>\n",
       "      <th></th>\n",
       "    </tr>\n",
       "  </thead>\n",
       "  <tbody>\n",
       "    <tr>\n",
       "      <th>1980-12-12</th>\n",
       "      <td>0.128348</td>\n",
       "      <td>0.128906</td>\n",
       "      <td>0.128348</td>\n",
       "      <td>0.128348</td>\n",
       "      <td>0.099874</td>\n",
       "      <td>469033600</td>\n",
       "      <td>0.0</td>\n",
       "      <td>0.0</td>\n",
       "    </tr>\n",
       "    <tr>\n",
       "      <th>1980-12-15</th>\n",
       "      <td>0.122210</td>\n",
       "      <td>0.122210</td>\n",
       "      <td>0.121652</td>\n",
       "      <td>0.121652</td>\n",
       "      <td>0.094663</td>\n",
       "      <td>175884800</td>\n",
       "      <td>0.0</td>\n",
       "      <td>0.0</td>\n",
       "    </tr>\n",
       "    <tr>\n",
       "      <th>1980-12-16</th>\n",
       "      <td>0.113281</td>\n",
       "      <td>0.113281</td>\n",
       "      <td>0.112723</td>\n",
       "      <td>0.112723</td>\n",
       "      <td>0.087715</td>\n",
       "      <td>105728000</td>\n",
       "      <td>0.0</td>\n",
       "      <td>0.0</td>\n",
       "    </tr>\n",
       "    <tr>\n",
       "      <th>1980-12-17</th>\n",
       "      <td>0.115513</td>\n",
       "      <td>0.116071</td>\n",
       "      <td>0.115513</td>\n",
       "      <td>0.115513</td>\n",
       "      <td>0.089886</td>\n",
       "      <td>86441600</td>\n",
       "      <td>0.0</td>\n",
       "      <td>0.0</td>\n",
       "    </tr>\n",
       "    <tr>\n",
       "      <th>1980-12-18</th>\n",
       "      <td>0.118862</td>\n",
       "      <td>0.119420</td>\n",
       "      <td>0.118862</td>\n",
       "      <td>0.118862</td>\n",
       "      <td>0.092492</td>\n",
       "      <td>73449600</td>\n",
       "      <td>0.0</td>\n",
       "      <td>0.0</td>\n",
       "    </tr>\n",
       "  </tbody>\n",
       "</table>\n",
       "</div>"
      ],
      "text/plain": [
       "                Open      High       Low     Close  Adj Close     Volume  \\\n",
       "Date                                                                       \n",
       "1980-12-12  0.128348  0.128906  0.128348  0.128348   0.099874  469033600   \n",
       "1980-12-15  0.122210  0.122210  0.121652  0.121652   0.094663  175884800   \n",
       "1980-12-16  0.113281  0.113281  0.112723  0.112723   0.087715  105728000   \n",
       "1980-12-17  0.115513  0.116071  0.115513  0.115513   0.089886   86441600   \n",
       "1980-12-18  0.118862  0.119420  0.118862  0.118862   0.092492   73449600   \n",
       "\n",
       "            Dividends  Stock Splits  \n",
       "Date                                 \n",
       "1980-12-12        0.0           0.0  \n",
       "1980-12-15        0.0           0.0  \n",
       "1980-12-16        0.0           0.0  \n",
       "1980-12-17        0.0           0.0  \n",
       "1980-12-18        0.0           0.0  "
      ]
     },
     "execution_count": 5,
     "metadata": {},
     "output_type": "execute_result"
    }
   ],
   "source": [
    "aapl.head()"
   ]
  },
  {
   "cell_type": "code",
   "execution_count": 6,
   "id": "95aac43e",
   "metadata": {
    "tags": []
   },
   "outputs": [],
   "source": [
    "aapl[\"Returns\"] = aapl[\"Adj Close\"].pct_change()"
   ]
  },
  {
   "cell_type": "code",
   "execution_count": 7,
   "id": "aed2122c",
   "metadata": {
    "deletable": false,
    "editable": false
   },
   "outputs": [
    {
     "data": {
      "text/html": [
       "<p><strong><pre style='display: inline;'>q1</pre></strong> passed! ✨</p><p><strong><pre style='display: inline;'>q1 - 1</pre> message:</strong> aapl has the expected columns (+10 pts)</p><p><strong><pre style='display: inline;'>q1 - 2</pre> message:</strong> aapl has the expected column sums (+10 pts)</p>"
      ],
      "text/plain": [
       "q1 results: All test cases passed!\n",
       "q1 - 1 message: aapl has the expected columns (+10 pts)\n",
       "q1 - 2 message: aapl has the expected column sums (+10 pts)"
      ]
     },
     "execution_count": 7,
     "metadata": {},
     "output_type": "execute_result"
    }
   ],
   "source": [
    "grader.check(\"q1\")"
   ]
  },
  {
   "cell_type": "markdown",
   "id": "41a3030a",
   "metadata": {
    "tags": []
   },
   "source": [
    "### Question 2"
   ]
  },
  {
   "cell_type": "markdown",
   "id": "b84dcab2",
   "metadata": {},
   "source": [
    "Calculate the Sharpe Ratio for AAPL from October 2011 through October 2019 (inclusive) and assign it to float variable `sr`.\n",
    "Use the risk-free rate of return as your benchmark.\n",
    "\n",
    "***Note: This question has 3 hidden tests worth 30 points.***\n",
    "\n",
    "_Points:_ 50"
   ]
  },
  {
   "cell_type": "code",
   "execution_count": 21,
   "id": "a7aaed9c",
   "metadata": {
    "tags": []
   },
   "outputs": [],
   "source": [
    "excess_ret = aapl[\"Returns\"].mul(100).sub(ff[\"RF\"]).dropna()\n",
    "sr = np.sqrt(252) * excess_ret.mean() / excess_ret.std()"
   ]
  },
  {
   "cell_type": "code",
   "execution_count": 18,
   "id": "5da5ed03",
   "metadata": {
    "deletable": false,
    "editable": false
   },
   "outputs": [
    {
     "data": {
      "text/html": [
       "<p><strong><pre style='display: inline;'>q2</pre></strong> passed! 🚀</p><p><strong><pre style='display: inline;'>q2 - 1</pre> message:</strong> sr is a float variable (+10 pts)</p><p><strong><pre style='display: inline;'>q2 - 2</pre> message:</strong> sr is positive (+10 pts)</p>"
      ],
      "text/plain": [
       "q2 results: All test cases passed!\n",
       "q2 - 1 message: sr is a float variable (+10 pts)\n",
       "q2 - 2 message: sr is positive (+10 pts)"
      ]
     },
     "execution_count": 18,
     "metadata": {},
     "output_type": "execute_result"
    }
   ],
   "source": [
    "grader.check(\"q2\")"
   ]
  },
  {
   "cell_type": "markdown",
   "id": "9e1af849",
   "metadata": {
    "tags": []
   },
   "source": [
    "### Question 3"
   ]
  },
  {
   "cell_type": "markdown",
   "id": "17bc478f",
   "metadata": {},
   "source": [
    "<!-- BEGIN QUESTION -->\n",
    "\n",
    "Plot the cumulative returns for AAPL from January 2000 through January 2023 (inclusive).\n",
    "Plot these cumulative returns as percents instead of decimals, and clearly label the plot.\n",
    "\n",
    "***Note: This question is manually graded, so there are no public or hidden tests.***\n",
    "\n",
    "_Points:_ 30"
   ]
  },
  {
   "cell_type": "code",
   "execution_count": 39,
   "id": "9d65739e",
   "metadata": {},
   "outputs": [],
   "source": [
    "import matplotlib.dates as mdates"
   ]
  },
  {
   "cell_type": "code",
   "execution_count": 50,
   "id": "29ee2e8a",
   "metadata": {},
   "outputs": [
    {
     "data": {
      "image/png": "[encoded data removed]",
      "text/plain": [
       "<Figure size 640x480 with 1 Axes>"
      ]
     },
     "metadata": {},
     "output_type": "display_data"
    }
   ],
   "source": [
    "returns_20_23 = aapl.loc[\"01-2020\":\"01-2023\"][\"Returns\"]\n",
    "cum_returns = returns_20_23.add(1).cumprod().sub(1).mul(100)\n",
    "cum_returns.plot()\n",
    "plt.ylabel('Cumulative Return (%)')\n",
    "plt.xlabel('Year and Month')\n",
    "plt.grid()\n",
    "plt.title(f'Cumulative Returns of Apple from {cum_returns.index[0]:%Y} to {cum_returns.index[-1]:%Y}')\n",
    "plt.show()"
   ]
  },
  {
   "cell_type": "markdown",
   "id": "8e8079bf",
   "metadata": {},
   "source": [
    "<!-- END QUESTION -->\n",
    "\n"
   ]
  },
  {
   "cell_type": "markdown",
   "id": "1c460093",
   "metadata": {
    "deletable": false,
    "editable": false
   },
   "source": [
    "## Submission\n",
    "\n",
    "Make sure you have run all cells in your notebook in order before running the cell below, so that all images/graphs appear in the output. The cell below will generate a zip file for you to submit. **Please save before exporting!**"
   ]
  },
  {
   "cell_type": "code",
   "execution_count": null,
   "id": "ede6d3fc",
   "metadata": {
    "deletable": false,
    "editable": false
   },
   "outputs": [],
   "source": [
    "# Save your notebook first, then run this cell to export your submission.\n",
    "grader.export(pdf=False, run_tests=True)"
   ]
  },
  {
   "cell_type": "markdown",
   "id": "c5a8fb80",
   "metadata": {},
   "source": [
    " "
   ]
  }
 ],
 "metadata": {
  "kernelspec": {
   "display_name": "Python 3 (ipykernel)",
   "language": "python",
   "name": "python3"
  },
  "language_info": {
   "codemirror_mode": {
    "name": "ipython",
    "version": 3
   },
   "file_extension": ".py",
   "mimetype": "text/x-python",
   "name": "python",
   "nbconvert_exporter": "python",
   "pygments_lexer": "ipython3",
   "version": "3.9.13"
  },
  "otter": {
   "OK_FORMAT": true,
   "tests": {
    "q1": {
     "name": "q1",
     "points": 20,
     "suites": [
      {
       "cases": [
        {
         "code": ">>> aapl.columns.to_list() == ['Open', 'High', 'Low', 'Close', 'Adj Close', 'Volume', 'Dividends', 'Stock Splits', 'Returns']\nTrue",
         "failure_message": "aapl does not have the expected columns (+0 pts)",
         "hidden": false,
         "locked": false,
         "points": 10,
         "success_message": "aapl has the expected columns (+10 pts)"
        },
        {
         "code": ">>> np.allclose(aapl.sum().values, np.array([1.77328172e+05, 1.79354229e+05, 1.75327612e+05, 1.77414673e+05, 1.70306744e+05, 3.47569888e+12, 6.83356400e+00, 1.70000000e+01, 1.15935312e+01]))\nTrue",
         "failure_message": "aapl does not have the expected column sums (+0 pts)",
         "hidden": false,
         "locked": false,
         "points": 10,
         "success_message": "aapl has the expected column sums (+10 pts)"
        }
       ],
       "scored": true,
       "setup": "",
       "teardown": "",
       "type": "doctest"
      }
     ]
    },
    "q2": {
     "name": "q2",
     "points": 50,
     "suites": [
      {
       "cases": [
        {
         "code": ">>> type(sr) in [float, np.float64]\nTrue",
         "failure_message": "sr should be a float variable (+0 pts)",
         "hidden": false,
         "locked": false,
         "points": 10,
         "success_message": "sr is a float variable (+10 pts)"
        },
        {
         "code": ">>> sr > 0\nTrue",
         "failure_message": "sr should be positive (+0 pts)",
         "hidden": false,
         "locked": false,
         "points": 10,
         "success_message": "sr is positive (+10 pts)"
        }
       ],
       "scored": true,
       "setup": "",
       "teardown": "",
       "type": "doctest"
      }
     ]
    }
   }
  }
 },
 "nbformat": 4,
 "nbformat_minor": 5
}
