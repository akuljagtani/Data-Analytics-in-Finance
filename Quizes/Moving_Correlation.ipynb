{
 "cells": [
  {
   "cell_type": "code",
   "execution_count": 1,
   "id": "366e14d0",
   "metadata": {
    "deletable": false,
    "editable": false
   },
   "outputs": [],
   "source": [
    "# Initialize Otter\n",
    "import otter\n",
    "grader = otter.Notebook(\"quiz_05.ipynb\")"
   ]
  },
  {
   "cell_type": "markdown",
   "id": "51e6a31b",
   "metadata": {},
   "source": [
    "# Quiz 5"
   ]
  },
  {
   "cell_type": "markdown",
   "id": "8f382296",
   "metadata": {
    "tags": []
   },
   "source": [
    "## Instructions"
   ]
  },
  {
   "cell_type": "markdown",
   "id": "ee1b6082",
   "metadata": {},
   "source": [
    "1. After you answer a question, you should run its public tests.\n",
    "1. After you answer every question, you should:\n",
    "    1. Restart your kernel and clear all output\n",
    "    1. Run up to the last cell\n",
    "    1. Save your notebook\n",
    "    1. Run the last cell to create a .zip file for Gradescope\n",
    "    1. Upload this .zip file to Gradescope\n",
    "    1. ***Make sure your Gradescope autograder results match your local autograder results***\n",
    "1. This quiz has public and hidden tests:\n",
    "    1. Public tests check your answers for correct types and shapes but may not completely check your answers\n",
    "    1. Hidden tests completely check your answers but will not be available until after the due date\n",
    "    1. *If all tests were public, you could quickly reverse-engineer incorrect answers that trick the autograder*\n",
    "1. You may ask technical questions on Canvas Discussions, but this quiz is an individual effort."
   ]
  },
  {
   "cell_type": "markdown",
   "id": "ce5ba220",
   "metadata": {
    "tags": []
   },
   "source": [
    "## Packages and Settings"
   ]
  },
  {
   "cell_type": "code",
   "execution_count": 2,
   "id": "fed743ca",
   "metadata": {},
   "outputs": [],
   "source": [
    "import matplotlib.pyplot as plt\n",
    "import numpy as np\n",
    "import pandas as pd"
   ]
  },
  {
   "cell_type": "markdown",
   "id": "298ab19b",
   "metadata": {
    "tags": []
   },
   "source": [
    "## Data"
   ]
  },
  {
   "cell_type": "markdown",
   "id": "4acff99c",
   "metadata": {},
   "source": [
    "I used the following code to download and save the raw data you need for this quiz.\n",
    "***You should review the following code but not run it.***"
   ]
  },
  {
   "cell_type": "code",
   "execution_count": 3,
   "id": "4f64dbb4",
   "metadata": {},
   "outputs": [],
   "source": [
    "# import yfinance as yf\n",
    "\n",
    "# (\n",
    "#     yf.Tickers(tickers=['AAPL', 'TSLA'])\n",
    "#     .history(period='max', auto_adjust=False, progress=False)\n",
    "#     .assign(Date = lambda x: x.index.tz_localize(None))\n",
    "#     .set_index('Date')\n",
    "#     .rename_axis(columns=['Variable', 'Ticker'])\n",
    "#     .to_csv('yahoo.csv')\n",
    "# )"
   ]
  },
  {
   "cell_type": "markdown",
   "id": "a9cd8867",
   "metadata": {
    "tags": []
   },
   "source": [
    "## Questions"
   ]
  },
  {
   "cell_type": "markdown",
   "id": "ba3faf53",
   "metadata": {
    "tags": []
   },
   "source": [
    "### Question 1"
   ]
  },
  {
   "cell_type": "markdown",
   "id": "aecd9a41",
   "metadata": {},
   "source": [
    "Read the daily returns data for AAPL and TSLA saved in file `yahoo.csv`\n",
    "Calculate the decimal daily returns for AAPL and TSLA from July 2010 through February 2023 (inclusive) and assign to data frame `returns`.\n",
    "\n",
    "_Points:_ 28"
   ]
  },
  {
   "cell_type": "code",
   "execution_count": 4,
   "id": "9220adfe",
   "metadata": {},
   "outputs": [],
   "source": [
    "returns = (\n",
    "    pd.read_csv('yahoo.csv', header=[0,1], index_col=0)[\"Adj Close\"]\n",
    "    .pct_change()\n",
    "    .loc[\"2010-07\":\"2023-03\"]\n",
    ")"
   ]
  },
  {
   "cell_type": "code",
   "execution_count": 5,
   "id": "832c3f25",
   "metadata": {
    "deletable": false,
    "editable": false
   },
   "outputs": [
    {
     "data": {
      "text/html": [
       "<p><strong><pre style='display: inline;'>q1</pre></strong> passed! 🍀</p><p><strong><pre style='display: inline;'>q1 - 1</pre> message:</strong> returns has the right shape (+14 pts)</p><p><strong><pre style='display: inline;'>q1 - 2</pre> message:</strong> returns has the right column sums (+14 pts)</p>"
      ],
      "text/plain": [
       "q1 results: All test cases passed!\n",
       "q1 - 1 message: returns has the right shape (+14 pts)\n",
       "q1 - 2 message: returns has the right column sums (+14 pts)"
      ]
     },
     "execution_count": 5,
     "metadata": {},
     "output_type": "execute_result"
    }
   ],
   "source": [
    "grader.check(\"q1\")"
   ]
  },
  {
   "cell_type": "markdown",
   "id": "3b545391",
   "metadata": {
    "tags": []
   },
   "source": [
    "### Question 2"
   ]
  },
  {
   "cell_type": "markdown",
   "id": "afb7d678",
   "metadata": {},
   "source": [
    "Calculate the 252-trading-day rolling correlations between AAPL and TSLA daily returns.\n",
    "Use all available returns in data frame `returns`, and require 252 observations per correlation calculation. \n",
    "Leave your rolling correlations as decimals (i.e., do not convert to percent), and assign them to series `rhos`.\n",
    "\n",
    "***Note: This question has 3 hidden tests worth 18 points.***\n",
    "\n",
    "_Points:_ 24"
   ]
  },
  {
   "cell_type": "code",
   "execution_count": 6,
   "id": "635b0fd5",
   "metadata": {
    "tags": []
   },
   "outputs": [],
   "source": [
    "rhos = returns[\"AAPL\"].rolling(252).corr(returns[\"TSLA\"])"
   ]
  },
  {
   "cell_type": "code",
   "execution_count": 7,
   "id": "a401887a",
   "metadata": {
    "deletable": false,
    "editable": false
   },
   "outputs": [
    {
     "data": {
      "text/html": [
       "<p><strong><pre style='display: inline;'>q2</pre></strong> passed! 🙌</p><p><strong><pre style='display: inline;'>q2 - 1</pre> message:</strong> rhos has the right shape (+6 pts)</p>"
      ],
      "text/plain": [
       "q2 results: All test cases passed!\n",
       "q2 - 1 message: rhos has the right shape (+6 pts)"
      ]
     },
     "execution_count": 7,
     "metadata": {},
     "output_type": "execute_result"
    }
   ],
   "source": [
    "grader.check(\"q2\")"
   ]
  },
  {
   "cell_type": "markdown",
   "id": "fd577eb1",
   "metadata": {
    "tags": []
   },
   "source": [
    "### Question 3"
   ]
  },
  {
   "cell_type": "markdown",
   "id": "a7398eb7",
   "metadata": {},
   "source": [
    "<!-- BEGIN QUESTION -->\n",
    "\n",
    "Aggregate the daily returns in data frame `returns` to monthly total returns.\n",
    "Save these monthly total returns to data frame `returns_m`.\n",
    "\n",
    "Calculate the 12-month rolling correlation between AAPL and TSLA monthly returns.\n",
    "Use all available returns in data frame `returns_m`, and require 12 observations per correlation calculation.\n",
    "Leave your rolling correlations as decimals (i.e., do not convert to percent), and assign them to series `rhos_m`.\n",
    "\n",
    "***Note: This question has 6 hidden tests worth 36 points.***\n",
    "\n",
    "_Points:_ 48"
   ]
  },
  {
   "cell_type": "code",
   "execution_count": 8,
   "id": "c3fb3beb",
   "metadata": {
    "tags": []
   },
   "outputs": [],
   "source": [
    "returns.index = pd.to_datetime(returns.index)\n",
    "returns_m = returns.add(1).resample(\"M\").prod().sub(1)\n",
    "rhos_m = returns_m[\"AAPL\"].rolling(12).corr(returns_m[\"TSLA\"])"
   ]
  },
  {
   "cell_type": "code",
   "execution_count": 9,
   "id": "50bdeec5",
   "metadata": {
    "deletable": false,
    "editable": false
   },
   "outputs": [
    {
     "data": {
      "text/html": [
       "<p><strong><pre style='display: inline;'>q3</pre></strong> passed! 🌟</p><p><strong><pre style='display: inline;'>q3 - 1</pre> message:</strong> returns_m has the right shape (+6 pts)</p><p><strong><pre style='display: inline;'>q3 - 2</pre> message:</strong> rhos_m has the right shape (+6 pts)</p>"
      ],
      "text/plain": [
       "q3 results: All test cases passed!\n",
       "q3 - 1 message: returns_m has the right shape (+6 pts)\n",
       "q3 - 2 message: rhos_m has the right shape (+6 pts)"
      ]
     },
     "execution_count": 9,
     "metadata": {},
     "output_type": "execute_result"
    }
   ],
   "source": [
    "grader.check(\"q3\")"
   ]
  },
  {
   "cell_type": "markdown",
   "id": "58a4f886",
   "metadata": {},
   "source": [
    "<!-- END QUESTION -->\n",
    "\n"
   ]
  },
  {
   "cell_type": "markdown",
   "id": "40681251",
   "metadata": {
    "deletable": false,
    "editable": false
   },
   "source": [
    "## Submission\n",
    "\n",
    "Make sure you have run all cells in your notebook in order before running the cell below, so that all images/graphs appear in the output. The cell below will generate a zip file for you to submit. **Please save before exporting!**"
   ]
  },
  {
   "cell_type": "code",
   "execution_count": 10,
   "id": "5964ced4",
   "metadata": {
    "deletable": false,
    "editable": false
   },
   "outputs": [
    {
     "name": "stdout",
     "output_type": "stream",
     "text": [
      "Running your submission against local test cases...\n",
      "\n",
      "\n",
      "\n",
      "Your submission received the following results when run against available test cases:\n",
      "\n",
      "    q1 results: All test cases passed!\n",
      "    q1 - 1 message: returns has the right shape (+14 pts)\n",
      "    q1 - 2 message: returns has the right column sums (+14 pts)\n",
      "\n",
      "    q2 results: All test cases passed!\n",
      "    q2 - 1 message: rhos has the right shape (+6 pts)\n",
      "\n",
      "    q3 results:\n",
      "        q3 - 1 message: returns_m has the right shape (+6 pts)\n",
      "\n",
      "        q3 - 1 result:\n",
      "            ✅ Test case passed\n",
      "\n",
      "        q3 - 2 message: rhos_m has the wrong shape (+0 pts)\n",
      "\n",
      "        q3 - 2 result:\n",
      "            ❌ Test case failed\n",
      "            Trying:\n",
      "                rhos_m.shape == (152,)\n",
      "            Expecting:\n",
      "                True\n",
      "            **********************************************************************\n",
      "            Line 1, in q3 1\n",
      "            Failed example:\n",
      "                rhos_m.shape == (152,)\n",
      "            Exception raised:\n",
      "                Traceback (most recent call last):\n",
      "                  File \"/Users/akuljagtani/opt/anaconda3/lib/python3.9/doctest.py\", line 1334, in __run\n",
      "                    exec(compile(example.source, filename, \"single\",\n",
      "                  File \"<doctest q3 1[0]>\", line 1, in <module>\n",
      "                    rhos_m.shape == (152,)\n",
      "                NameError: name 'rhos_m' is not defined\n"
     ]
    },
    {
     "data": {
      "text/html": [
       "\n",
       "            <p>Your submission has been exported. Click <a href=\"quiz_05_2023_03_17T18_47_34_344652.zip\" download=\"quiz_05_2023_03_17T18_47_34_344652.zip\" target=\"_blank\">here</a>\n",
       "            to download the zip file.</p>\n",
       "            "
      ],
      "text/plain": [
       "<IPython.core.display.HTML object>"
      ]
     },
     "metadata": {},
     "output_type": "display_data"
    }
   ],
   "source": [
    "# Save your notebook first, then run this cell to export your submission.\n",
    "grader.export(pdf=False, run_tests=True)"
   ]
  },
  {
   "cell_type": "markdown",
   "id": "082365d4",
   "metadata": {},
   "source": [
    " "
   ]
  }
 ],
 "metadata": {
  "kernelspec": {
   "display_name": "Python 3 (ipykernel)",
   "language": "python",
   "name": "python3"
  },
  "language_info": {
   "codemirror_mode": {
    "name": "ipython",
    "version": 3
   },
   "file_extension": ".py",
   "mimetype": "text/x-python",
   "name": "python",
   "nbconvert_exporter": "python",
   "pygments_lexer": "ipython3",
   "version": "3.9.13"
  },
  "otter": {
   "OK_FORMAT": true,
   "tests": {
    "q1": {
     "name": "q1",
     "points": 28,
     "suites": [
      {
       "cases": [
        {
         "code": ">>> returns.shape == (3187, 2)\nTrue",
         "failure_message": "returns has the wrong shape (+0 pts)",
         "hidden": false,
         "locked": false,
         "points": 14,
         "success_message": "returns has the right shape (+14 pts)"
        },
        {
         "code": ">>> np.allclose(returns.sum().values, np.array([3.47652148, 6.94111853]))\nTrue",
         "failure_message": "returns has the wrong column sums (+0 pts)",
         "hidden": false,
         "locked": false,
         "points": 14,
         "success_message": "returns has the right column sums (+14 pts)"
        }
       ],
       "scored": true,
       "setup": "",
       "teardown": "",
       "type": "doctest"
      }
     ]
    },
    "q2": {
     "name": "q2",
     "points": 24,
     "suites": [
      {
       "cases": [
        {
         "code": ">>> rhos.shape == (3187,)\nTrue",
         "failure_message": "rhos has the wrong shape (+0 pts)",
         "hidden": false,
         "locked": false,
         "points": 6,
         "success_message": "rhos has the right shape (+6 pts)"
        }
       ],
       "scored": true,
       "setup": "",
       "teardown": "",
       "type": "doctest"
      }
     ]
    },
    "q3": {
     "name": "q3",
     "points": 48,
     "suites": [
      {
       "cases": [
        {
         "code": ">>> returns_m.shape == (152, 2)\nTrue",
         "failure_message": "returns_m has the wrong shape (+0 pts)",
         "hidden": false,
         "locked": false,
         "points": 6,
         "success_message": "returns_m has the right shape (+6 pts)"
        },
        {
         "code": ">>> rhos_m.shape == (152,)\nTrue",
         "failure_message": "rhos_m has the wrong shape (+0 pts)",
         "hidden": false,
         "locked": false,
         "points": 6,
         "success_message": "rhos_m has the right shape (+6 pts)"
        }
       ],
       "scored": true,
       "setup": "",
       "teardown": "",
       "type": "doctest"
      }
     ]
    }
   }
  }
 },
 "nbformat": 4,
 "nbformat_minor": 5
}
