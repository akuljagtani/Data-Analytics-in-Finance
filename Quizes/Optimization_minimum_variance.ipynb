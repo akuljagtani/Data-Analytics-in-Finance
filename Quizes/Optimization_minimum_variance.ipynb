{
 "cells": [
  {
   "cell_type": "code",
   "execution_count": 1,
   "id": "7c74d3f7",
   "metadata": {
    "deletable": false,
    "editable": false
   },
   "outputs": [],
   "source": [
    "# Initialize Otter\n",
    "import otter\n",
    "grader = otter.Notebook(\"quiz_06.ipynb\")"
   ]
  },
  {
   "cell_type": "markdown",
   "id": "c2920439",
   "metadata": {},
   "source": [
    "# Quiz 6"
   ]
  },
  {
   "cell_type": "markdown",
   "id": "60742d84",
   "metadata": {
    "tags": []
   },
   "source": [
    "## Instructions"
   ]
  },
  {
   "cell_type": "markdown",
   "id": "512efef5",
   "metadata": {},
   "source": [
    "1. ***Do not change any file names or relative locations***\n",
    "1. After you answer a question, you should run its public tests.\n",
    "1. After you answer every question, you should:\n",
    "    1. Restart your kernel and clear all output\n",
    "    1. Run up to the last cell\n",
    "    1. Save your notebook\n",
    "    1. Run the last cell to create a .zip file for Gradescope\n",
    "    1. Upload this .zip file to Gradescope\n",
    "    1. ***Make sure your Gradescope autograder results match your local autograder results***\n",
    "1. This quiz has public and hidden tests:\n",
    "    1. Public tests check your answers for correct types and shapes but may not completely check your answers\n",
    "    1. Hidden tests completely check your answers but will not be available until after the due date\n",
    "    1. *If all tests were public, you could quickly reverse-engineer incorrect answers that trick the autograder*\n",
    "1. You may ask technical questions on Canvas Discussions, but this quiz is an individual effort."
   ]
  },
  {
   "cell_type": "markdown",
   "id": "9a9320f1",
   "metadata": {
    "tags": []
   },
   "source": [
    "## Packages and Settings"
   ]
  },
  {
   "cell_type": "code",
   "execution_count": 2,
   "id": "cbee2fe3",
   "metadata": {},
   "outputs": [],
   "source": [
    "import matplotlib.pyplot as plt\n",
    "import numpy as np\n",
    "import pandas as pd\n",
    "import scipy.optimize as sco"
   ]
  },
  {
   "cell_type": "markdown",
   "id": "b179abfe",
   "metadata": {
    "tags": []
   },
   "source": [
    "## Data"
   ]
  },
  {
   "cell_type": "markdown",
   "id": "7d7719b6",
   "metadata": {},
   "source": [
    "I used the following code to download and save the data you need for this quiz.\n",
    "***You should review the following code but not run it.***"
   ]
  },
  {
   "cell_type": "code",
   "execution_count": 3,
   "id": "6a588cbe",
   "metadata": {},
   "outputs": [],
   "source": [
    "# import yfinance as yf\n",
    "\n",
    "# (\n",
    "#     yf.Tickers(tickers=['TSLA', 'BAC', 'FRC', 'F', 'AMD'])\n",
    "#     .history(period='max', auto_adjust=False, progress=False)\n",
    "#     .assign(Date = lambda x: x.index.tz_localize(None))\n",
    "#     .set_index('Date')\n",
    "#     .rename_axis(columns=['Variable', 'Ticker'])\n",
    "#     .to_csv('yahoo.csv')\n",
    "# )"
   ]
  },
  {
   "cell_type": "markdown",
   "id": "09759ef7",
   "metadata": {
    "tags": []
   },
   "source": [
    "## Questions"
   ]
  },
  {
   "cell_type": "markdown",
   "id": "d4c0759b",
   "metadata": {
    "tags": []
   },
   "source": [
    "### Question 1"
   ]
  },
  {
   "cell_type": "markdown",
   "id": "06327168",
   "metadata": {},
   "source": [
    "Read the daily price data for AMD, BAC, F, FRC, and TSLA saved in file `yahoo.csv` and assign to data frame `yahoo`.\n",
    "Calculate the daily decimal returns for AMD, BAC, F, FRC, and TSLA from March 2020 through February 2023 (inclusive) and assign to data frame `returns`.\n",
    "\n",
    "_Points:_ 40"
   ]
  },
  {
   "cell_type": "code",
   "execution_count": 4,
   "id": "e4680261",
   "metadata": {
    "tags": []
   },
   "outputs": [],
   "source": [
    "returns = pd.read_csv(\"yahoo.csv\", header= [0,1] , index_col= [0])[\"Adj Close\"].pct_change().loc[\"2020-03\":\"2023-03\"]\n"
   ]
  },
  {
   "cell_type": "code",
   "execution_count": 5,
   "id": "361d294e",
   "metadata": {
    "deletable": false,
    "editable": false
   },
   "outputs": [
    {
     "data": {
      "text/html": [
       "<p><strong><pre style='display: inline;'>q1</pre></strong> passed! 🍀</p><p><strong><pre style='display: inline;'>q1 - 1</pre> message:</strong> returns has the right shape (+15 pts)</p><p><strong><pre style='display: inline;'>q1 - 2</pre> message:</strong> returns has the right column sums (+15 pts)</p><p><strong><pre style='display: inline;'>q1 - 3</pre> message:</strong> returns has the right column names and order (+10 pts)</p>"
      ],
      "text/plain": [
       "q1 results: All test cases passed!\n",
       "q1 - 1 message: returns has the right shape (+15 pts)\n",
       "q1 - 2 message: returns has the right column sums (+15 pts)\n",
       "q1 - 3 message: returns has the right column names and order (+10 pts)"
      ]
     },
     "execution_count": 5,
     "metadata": {},
     "output_type": "execute_result"
    }
   ],
   "source": [
    "grader.check(\"q1\")"
   ]
  },
  {
   "cell_type": "markdown",
   "id": "f54b27d2",
   "metadata": {
    "tags": []
   },
   "source": [
    "### Question 2"
   ]
  },
  {
   "cell_type": "markdown",
   "id": "7558b278",
   "metadata": {},
   "source": [
    "Use the daily decimal returns in data frame `returns` to calculate the minimum-variance portfolio weights.\n",
    "Assume long-only portfolio weights, so all portfolio weights are non-negative.\n",
    "Assign these minimum-variance portfolio weights to NumPy array `weights_2`.\n",
    "***Note: This question has 4 hidden tests worth 24 points.***\n",
    "\n",
    "_Points:_ 36"
   ]
  },
  {
   "cell_type": "code",
   "execution_count": 6,
   "id": "7f1a7e29",
   "metadata": {},
   "outputs": [],
   "source": [
    "def port_vol(x, r, ppy=252):\n",
    "    return np.sqrt(ppy) * r.dot(x).std()"
   ]
  },
  {
   "cell_type": "code",
   "execution_count": 7,
   "id": "d75feaea",
   "metadata": {},
   "outputs": [
    {
     "name": "stdout",
     "output_type": "stream",
     "text": [
      "[0.13669878 0.33293334 0.08658019 0.39122437 0.05256332]\n"
     ]
    }
   ],
   "source": [
    "a = sco.minimize(\n",
    "    fun=port_vol, \n",
    "    x0=np.ones(returns.shape[1]) / returns.shape[1], \n",
    "    args=(returns,), \n",
    "    bounds=[(0,1) for _ in returns], \n",
    "    constraints=(\n",
    "        {'type': 'eq', 'fun': lambda x: x.sum() - 1} \n",
    "    )\n",
    ")\n",
    "weights_2 = a[\"x\"]\n",
    "print(weights_2)"
   ]
  },
  {
   "cell_type": "code",
   "execution_count": 8,
   "id": "77ef0485",
   "metadata": {
    "deletable": false,
    "editable": false
   },
   "outputs": [
    {
     "data": {
      "text/html": [
       "<p><strong><pre style='display: inline;'>q2</pre></strong> passed! ✨</p><p><strong><pre style='display: inline;'>q2 - 1</pre> message:</strong> weights_2 has the right shape (+6 pts)</p><p><strong><pre style='display: inline;'>q2 - 2</pre> message:</strong> weights_2 values fall between 0 and 1 (+6 pts)</p>"
      ],
      "text/plain": [
       "q2 results: All test cases passed!\n",
       "q2 - 1 message: weights_2 has the right shape (+6 pts)\n",
       "q2 - 2 message: weights_2 values fall between 0 and 1 (+6 pts)"
      ]
     },
     "execution_count": 8,
     "metadata": {},
     "output_type": "execute_result"
    }
   ],
   "source": [
    "grader.check(\"q2\")"
   ]
  },
  {
   "cell_type": "markdown",
   "id": "dbd70500",
   "metadata": {
    "tags": []
   },
   "source": [
    "### Question 3"
   ]
  },
  {
   "cell_type": "markdown",
   "id": "aa7d8f0c",
   "metadata": {},
   "source": [
    "Calculate the minimum-variance portfolio weights as above in question 2, but allow long and short portfolio weights.\n",
    "Constrain the sum of the long portfolio weights to be less or equal to 130% or 1.3.\n",
    "Assign these minimum-variance portfolio weights to NumPy array `weights_3`.\n",
    "***Note: This question has 4 hidden tests worth 16 points.***\n",
    "\n",
    "_Points:_ 24"
   ]
  },
  {
   "cell_type": "code",
   "execution_count": 9,
   "id": "36205f72",
   "metadata": {
    "tags": []
   },
   "outputs": [
    {
     "data": {
      "text/plain": [
       "array([0.17763965, 0.43282895, 0.11268624, 0.50832488, 0.06852028])"
      ]
     },
     "execution_count": 9,
     "metadata": {},
     "output_type": "execute_result"
    }
   ],
   "source": [
    "b = sco.minimize(\n",
    "    fun=port_vol, \n",
    "    x0=np.ones(returns.shape[1]) / returns.shape[1],\n",
    "    args=(returns,), \n",
    "    bounds = [(-0.7,1.3)for _ in returns],\n",
    "    constraints=(\n",
    "         {'type': 'ineq', 'fun': lambda x:x[x>0].sum()-1.3 }\n",
    "    )\n",
    ")\n",
    "weights_3 = b[\"x\"]\n",
    "weights_3[weights_3>0]"
   ]
  },
  {
   "cell_type": "code",
   "execution_count": 10,
   "id": "2bd8102e",
   "metadata": {
    "deletable": false,
    "editable": false
   },
   "outputs": [
    {
     "data": {
      "text/html": [
       "<p><strong><pre style='display: inline;'>q3</pre></strong> passed! 🍀</p><p><strong><pre style='display: inline;'>q3 - 1</pre> message:</strong> weights_3 has the right shape (+4 pts)</p><p><strong><pre style='display: inline;'>q3 - 2</pre> message:</strong> weights_3 values fall between -1 and 2 (+4 pts)</p>"
      ],
      "text/plain": [
       "q3 results: All test cases passed!\n",
       "q3 - 1 message: weights_3 has the right shape (+4 pts)\n",
       "q3 - 2 message: weights_3 values fall between -1 and 2 (+4 pts)"
      ]
     },
     "execution_count": 10,
     "metadata": {},
     "output_type": "execute_result"
    }
   ],
   "source": [
    "grader.check(\"q3\")"
   ]
  },
  {
   "cell_type": "markdown",
   "id": "0bad3969",
   "metadata": {
    "deletable": false,
    "editable": false
   },
   "source": [
    "## Submission\n",
    "\n",
    "Make sure you have run all cells in your notebook in order before running the cell below, so that all images/graphs appear in the output. The cell below will generate a zip file for you to submit. **Please save before exporting!**"
   ]
  },
  {
   "cell_type": "code",
   "execution_count": 11,
   "id": "c354ae62",
   "metadata": {
    "deletable": false,
    "editable": false
   },
   "outputs": [
    {
     "name": "stdout",
     "output_type": "stream",
     "text": [
      "Running your submission against local test cases...\n",
      "\n",
      "\n",
      "\n",
      "Your submission received the following results when run against available test cases:\n",
      "\n",
      "    q1 results: All test cases passed!\n",
      "    q1 - 1 message: returns has the right shape (+15 pts)\n",
      "    q1 - 2 message: returns has the right column sums (+15 pts)\n",
      "    q1 - 3 message: returns has the right column names and order (+10 pts)\n",
      "\n",
      "    q2 results: All test cases passed!\n",
      "    q2 - 1 message: weights_2 has the right shape (+6 pts)\n",
      "    q2 - 2 message: weights_2 values fall between 0 and 1 (+6 pts)\n",
      "\n",
      "    q3 results:\n",
      "        q3 - 1 message: weights_3 has the wrong shape (+0 pts)\n",
      "\n",
      "        q3 - 1 result:\n",
      "            ❌ Test case failed\n",
      "            Trying:\n",
      "                weights_3.shape == (5,)\n",
      "            Expecting:\n",
      "                True\n",
      "            **********************************************************************\n",
      "            Line 1, in q3 0\n",
      "            Failed example:\n",
      "                weights_3.shape == (5,)\n",
      "            Exception raised:\n",
      "                Traceback (most recent call last):\n",
      "                  File \"/Users/akuljagtani/opt/anaconda3/lib/python3.9/doctest.py\", line 1334, in __run\n",
      "                    exec(compile(example.source, filename, \"single\",\n",
      "                  File \"<doctest q3 0[0]>\", line 1, in <module>\n",
      "                    weights_3.shape == (5,)\n",
      "                NameError: name 'weights_3' is not defined\n",
      "\n",
      "        q3 - 2 message: weights_3 values do not fall between -1 and 2 (+0 pts)\n",
      "\n",
      "        q3 - 2 result:\n",
      "            ❌ Test case failed\n",
      "            Trying:\n",
      "                ((-1 <= weights_3) & (weights_3 <= 2)).all()\n",
      "            Expecting:\n",
      "                True\n",
      "            **********************************************************************\n",
      "            Line 1, in q3 1\n",
      "            Failed example:\n",
      "                ((-1 <= weights_3) & (weights_3 <= 2)).all()\n",
      "            Exception raised:\n",
      "                Traceback (most recent call last):\n",
      "                  File \"/Users/akuljagtani/opt/anaconda3/lib/python3.9/doctest.py\", line 1334, in __run\n",
      "                    exec(compile(example.source, filename, \"single\",\n",
      "                  File \"<doctest q3 1[0]>\", line 1, in <module>\n",
      "                    ((-1 <= weights_3) & (weights_3 <= 2)).all()\n",
      "                NameError: name 'weights_3' is not defined\n"
     ]
    },
    {
     "data": {
      "text/html": [
       "\n",
       "            <p>Your submission has been exported. Click <a href=\"quiz_06_2023_03_31T23_52_11_601279.zip\" download=\"quiz_06_2023_03_31T23_52_11_601279.zip\" target=\"_blank\">here</a>\n",
       "            to download the zip file.</p>\n",
       "            "
      ],
      "text/plain": [
       "<IPython.core.display.HTML object>"
      ]
     },
     "metadata": {},
     "output_type": "display_data"
    }
   ],
   "source": [
    "# Save your notebook first, then run this cell to export your submission.\n",
    "grader.export(pdf=False, run_tests=True)"
   ]
  },
  {
   "cell_type": "markdown",
   "id": "b5011840",
   "metadata": {},
   "source": [
    " "
   ]
  }
 ],
 "metadata": {
  "kernelspec": {
   "display_name": "Python 3 (ipykernel)",
   "language": "python",
   "name": "python3"
  },
  "language_info": {
   "codemirror_mode": {
    "name": "ipython",
    "version": 3
   },
   "file_extension": ".py",
   "mimetype": "text/x-python",
   "name": "python",
   "nbconvert_exporter": "python",
   "pygments_lexer": "ipython3",
   "version": "3.9.13"
  },
  "otter": {
   "OK_FORMAT": true,
   "tests": {
    "q1": {
     "name": "q1",
     "points": null,
     "suites": [
      {
       "cases": [
        {
         "code": ">>> returns.shape == (755, 5)\nTrue",
         "failure_message": "returns has the wrong shape (+0 pts)",
         "hidden": false,
         "locked": false,
         "points": 15,
         "success_message": "returns has the right shape (+15 pts)"
        },
        {
         "code": ">>> np.allclose(returns.sum().values, np.array([1.013422  , 0.50552809, 1.01683573, 0.4575595 , 2.27742942]))\nTrue",
         "failure_message": "returns has the wrong column sums (+0 pts)",
         "hidden": false,
         "locked": false,
         "points": 15,
         "success_message": "returns has the right column sums (+15 pts)"
        },
        {
         "code": ">>> (returns.columns == np.array(['AMD', 'BAC', 'F', 'FRC', 'TSLA'])).all()\nTrue",
         "failure_message": "returns has the wrong column names or order (+0 pts)",
         "hidden": false,
         "locked": false,
         "points": 10,
         "success_message": "returns has the right column names and order (+10 pts)"
        }
       ],
       "scored": true,
       "setup": "",
       "teardown": "",
       "type": "doctest"
      }
     ]
    },
    "q2": {
     "name": "q2",
     "points": null,
     "suites": [
      {
       "cases": [
        {
         "code": ">>> weights_2.shape == (5,)\nTrue",
         "failure_message": "weights_2 has the wrong shape (+0 pts)",
         "hidden": false,
         "locked": false,
         "points": 6,
         "success_message": "weights_2 has the right shape (+6 pts)"
        },
        {
         "code": ">>> ((0 <= weights_2) & (weights_2 <= 1)).all()\nTrue",
         "failure_message": "weights_2 values do not fall between 0 and 1 (+0 pts)",
         "hidden": false,
         "locked": false,
         "points": 6,
         "success_message": "weights_2 values fall between 0 and 1 (+6 pts)"
        }
       ],
       "scored": true,
       "setup": "",
       "teardown": "",
       "type": "doctest"
      }
     ]
    },
    "q3": {
     "name": "q3",
     "points": null,
     "suites": [
      {
       "cases": [
        {
         "code": ">>> weights_3.shape == (5,)\nTrue",
         "failure_message": "weights_3 has the wrong shape (+0 pts)",
         "hidden": false,
         "locked": false,
         "points": 4,
         "success_message": "weights_3 has the right shape (+4 pts)"
        },
        {
         "code": ">>> ((-1 <= weights_3) & (weights_3 <= 2)).all()\nTrue",
         "failure_message": "weights_3 values do not fall between -1 and 2 (+0 pts)",
         "hidden": false,
         "locked": false,
         "points": 4,
         "success_message": "weights_3 values fall between -1 and 2 (+4 pts)"
        }
       ],
       "scored": true,
       "setup": "",
       "teardown": "",
       "type": "doctest"
      }
     ]
    }
   }
  }
 },
 "nbformat": 4,
 "nbformat_minor": 5
}
